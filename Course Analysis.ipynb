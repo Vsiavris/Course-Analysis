{
 "cells": [
  {
   "cell_type": "markdown",
   "metadata": {},
   "source": [
    "# **Course Analysis**\n",
    "\n",
    "This dataset is scrapped data from Coursera official web site and the data base is publicly available in Kaggle. \n",
    "The project aims to help any new learner get the right course to learn by just answering a few questions.\n",
    "\n",
    "**Note:** *This analysis contains interactive visualizations created with Plotly. These charts are fully interactive in Jupyter Notebook but may not display properly when viewed on GitHub. For the best experience with the visualizations, please view this notebook in Jupyter or download it to run locally.*"
   ]
  },
  {
   "cell_type": "markdown",
   "metadata": {},
   "source": [
    "## **1. Data review and cleaning**"
   ]
  },
  {
   "cell_type": "markdown",
   "metadata": {},
   "source": [
    "#### **1.1 Import of libraries and loading data**  \n",
    "\n",
    "For analysis mainly Pandas, Numpy and Plotly will be used.\n",
    "\n",
    "seaborn and matplotlib were used for for outliers overview, scipy for correlation review. \n",
    "\n",
    "Data was downloaded from Kaggle, the file name is coursea_data.csv. "
   ]
  },
  {
   "cell_type": "code",
   "execution_count": 47,
   "metadata": {},
   "outputs": [
    {
     "data": {
      "text/html": [
       "<div>\n",
       "<style scoped>\n",
       "    .dataframe tbody tr th:only-of-type {\n",
       "        vertical-align: middle;\n",
       "    }\n",
       "\n",
       "    .dataframe tbody tr th {\n",
       "        vertical-align: top;\n",
       "    }\n",
       "\n",
       "    .dataframe thead th {\n",
       "        text-align: right;\n",
       "    }\n",
       "</style>\n",
       "<table border=\"1\" class=\"dataframe\">\n",
       "  <thead>\n",
       "    <tr style=\"text-align: right;\">\n",
       "      <th></th>\n",
       "      <th>Unnamed: 0</th>\n",
       "      <th>course_title</th>\n",
       "      <th>course_organization</th>\n",
       "      <th>course_Certificate_type</th>\n",
       "      <th>course_rating</th>\n",
       "      <th>course_difficulty</th>\n",
       "      <th>course_students_enrolled</th>\n",
       "    </tr>\n",
       "  </thead>\n",
       "  <tbody>\n",
       "    <tr>\n",
       "      <th>0</th>\n",
       "      <td>134</td>\n",
       "      <td>(ISC)² Systems Security Certified Practitioner...</td>\n",
       "      <td>(ISC)²</td>\n",
       "      <td>SPECIALIZATION</td>\n",
       "      <td>4.7</td>\n",
       "      <td>Beginner</td>\n",
       "      <td>5.3k</td>\n",
       "    </tr>\n",
       "    <tr>\n",
       "      <th>1</th>\n",
       "      <td>743</td>\n",
       "      <td>A Crash Course in Causality:  Inferring Causal...</td>\n",
       "      <td>University of Pennsylvania</td>\n",
       "      <td>COURSE</td>\n",
       "      <td>4.7</td>\n",
       "      <td>Intermediate</td>\n",
       "      <td>17k</td>\n",
       "    </tr>\n",
       "    <tr>\n",
       "      <th>2</th>\n",
       "      <td>874</td>\n",
       "      <td>A Crash Course in Data Science</td>\n",
       "      <td>Johns Hopkins University</td>\n",
       "      <td>COURSE</td>\n",
       "      <td>4.5</td>\n",
       "      <td>Mixed</td>\n",
       "      <td>130k</td>\n",
       "    </tr>\n",
       "    <tr>\n",
       "      <th>3</th>\n",
       "      <td>413</td>\n",
       "      <td>A Law Student's Toolkit</td>\n",
       "      <td>Yale University</td>\n",
       "      <td>COURSE</td>\n",
       "      <td>4.7</td>\n",
       "      <td>Mixed</td>\n",
       "      <td>91k</td>\n",
       "    </tr>\n",
       "    <tr>\n",
       "      <th>4</th>\n",
       "      <td>635</td>\n",
       "      <td>A Life of Happiness and Fulfillment</td>\n",
       "      <td>Indian School of Business</td>\n",
       "      <td>COURSE</td>\n",
       "      <td>4.8</td>\n",
       "      <td>Mixed</td>\n",
       "      <td>320k</td>\n",
       "    </tr>\n",
       "  </tbody>\n",
       "</table>\n",
       "</div>"
      ],
      "text/plain": [
       "   Unnamed: 0                                       course_title  \\\n",
       "0         134  (ISC)² Systems Security Certified Practitioner...   \n",
       "1         743  A Crash Course in Causality:  Inferring Causal...   \n",
       "2         874                     A Crash Course in Data Science   \n",
       "3         413                            A Law Student's Toolkit   \n",
       "4         635                A Life of Happiness and Fulfillment   \n",
       "\n",
       "          course_organization course_Certificate_type  course_rating  \\\n",
       "0                      (ISC)²          SPECIALIZATION            4.7   \n",
       "1  University of Pennsylvania                  COURSE            4.7   \n",
       "2    Johns Hopkins University                  COURSE            4.5   \n",
       "3             Yale University                  COURSE            4.7   \n",
       "4   Indian School of Business                  COURSE            4.8   \n",
       "\n",
       "  course_difficulty course_students_enrolled  \n",
       "0          Beginner                     5.3k  \n",
       "1      Intermediate                      17k  \n",
       "2             Mixed                     130k  \n",
       "3             Mixed                      91k  \n",
       "4             Mixed                     320k  "
      ]
     },
     "execution_count": 47,
     "metadata": {},
     "output_type": "execute_result"
    }
   ],
   "source": [
    "import pandas as pd\n",
    "import numpy as np\n",
    "import matplotlib.pyplot as plt\n",
    "import seaborn as sns\n",
    "import plotly.express as px\n",
    "import scipy\n",
    "\n",
    "df = pd.read_csv(\"coursea_data.csv\")\n",
    "df.head()"
   ]
  },
  {
   "cell_type": "markdown",
   "metadata": {},
   "source": [
    "#### **1.2 Overview of Column Names and Data Types**\n",
    "The info() method is used to have a summary of a DataFrame. "
   ]
  },
  {
   "cell_type": "code",
   "execution_count": 48,
   "metadata": {},
   "outputs": [
    {
     "name": "stdout",
     "output_type": "stream",
     "text": [
      "<class 'pandas.core.frame.DataFrame'>\n",
      "RangeIndex: 891 entries, 0 to 890\n",
      "Data columns (total 7 columns):\n",
      " #   Column                    Non-Null Count  Dtype  \n",
      "---  ------                    --------------  -----  \n",
      " 0   Unnamed: 0                891 non-null    int64  \n",
      " 1   course_title              891 non-null    object \n",
      " 2   course_organization       891 non-null    object \n",
      " 3   course_Certificate_type   891 non-null    object \n",
      " 4   course_rating             891 non-null    float64\n",
      " 5   course_difficulty         891 non-null    object \n",
      " 6   course_students_enrolled  891 non-null    object \n",
      "dtypes: float64(1), int64(1), object(5)\n",
      "memory usage: 48.9+ KB\n"
     ]
    }
   ],
   "source": [
    "df.info()"
   ]
  },
  {
   "cell_type": "markdown",
   "metadata": {},
   "source": [
    "We can see that there are **7 columns and 891 entries**. \n",
    "\n",
    "**No null values are present** in the dataset since non null count shows the same number as entries in the data frame. \n",
    "\n",
    "**Two numerical columns can be seen**: \"Unnamed: 0 \" which will be dropped and \"course_rating\". \n",
    "\n",
    "**\"course_students_enrolled\"** has a type object, however it should be also numerical. From the head() we saw that it is an object due to values contain shorthand notations \"k\" and \"m\". Hence it **should be converted to numerical.**"
   ]
  },
  {
   "cell_type": "code",
   "execution_count": 49,
   "metadata": {},
   "outputs": [
    {
     "data": {
      "text/html": [
       "<div>\n",
       "<style scoped>\n",
       "    .dataframe tbody tr th:only-of-type {\n",
       "        vertical-align: middle;\n",
       "    }\n",
       "\n",
       "    .dataframe tbody tr th {\n",
       "        vertical-align: top;\n",
       "    }\n",
       "\n",
       "    .dataframe thead th {\n",
       "        text-align: right;\n",
       "    }\n",
       "</style>\n",
       "<table border=\"1\" class=\"dataframe\">\n",
       "  <thead>\n",
       "    <tr style=\"text-align: right;\">\n",
       "      <th></th>\n",
       "      <th>course_title</th>\n",
       "      <th>course_organization</th>\n",
       "      <th>course_Certificate_type</th>\n",
       "      <th>course_rating</th>\n",
       "      <th>course_difficulty</th>\n",
       "      <th>course_students_enrolled</th>\n",
       "    </tr>\n",
       "  </thead>\n",
       "  <tbody>\n",
       "    <tr>\n",
       "      <th>0</th>\n",
       "      <td>(ISC)² Systems Security Certified Practitioner...</td>\n",
       "      <td>(ISC)²</td>\n",
       "      <td>SPECIALIZATION</td>\n",
       "      <td>4.7</td>\n",
       "      <td>Beginner</td>\n",
       "      <td>5300</td>\n",
       "    </tr>\n",
       "    <tr>\n",
       "      <th>1</th>\n",
       "      <td>A Crash Course in Causality:  Inferring Causal...</td>\n",
       "      <td>University of Pennsylvania</td>\n",
       "      <td>COURSE</td>\n",
       "      <td>4.7</td>\n",
       "      <td>Intermediate</td>\n",
       "      <td>17000</td>\n",
       "    </tr>\n",
       "    <tr>\n",
       "      <th>2</th>\n",
       "      <td>A Crash Course in Data Science</td>\n",
       "      <td>Johns Hopkins University</td>\n",
       "      <td>COURSE</td>\n",
       "      <td>4.5</td>\n",
       "      <td>Mixed</td>\n",
       "      <td>130000</td>\n",
       "    </tr>\n",
       "    <tr>\n",
       "      <th>3</th>\n",
       "      <td>A Law Student's Toolkit</td>\n",
       "      <td>Yale University</td>\n",
       "      <td>COURSE</td>\n",
       "      <td>4.7</td>\n",
       "      <td>Mixed</td>\n",
       "      <td>91000</td>\n",
       "    </tr>\n",
       "    <tr>\n",
       "      <th>4</th>\n",
       "      <td>A Life of Happiness and Fulfillment</td>\n",
       "      <td>Indian School of Business</td>\n",
       "      <td>COURSE</td>\n",
       "      <td>4.8</td>\n",
       "      <td>Mixed</td>\n",
       "      <td>320000</td>\n",
       "    </tr>\n",
       "  </tbody>\n",
       "</table>\n",
       "</div>"
      ],
      "text/plain": [
       "                                        course_title  \\\n",
       "0  (ISC)² Systems Security Certified Practitioner...   \n",
       "1  A Crash Course in Causality:  Inferring Causal...   \n",
       "2                     A Crash Course in Data Science   \n",
       "3                            A Law Student's Toolkit   \n",
       "4                A Life of Happiness and Fulfillment   \n",
       "\n",
       "          course_organization course_Certificate_type  course_rating  \\\n",
       "0                      (ISC)²          SPECIALIZATION            4.7   \n",
       "1  University of Pennsylvania                  COURSE            4.7   \n",
       "2    Johns Hopkins University                  COURSE            4.5   \n",
       "3             Yale University                  COURSE            4.7   \n",
       "4   Indian School of Business                  COURSE            4.8   \n",
       "\n",
       "  course_difficulty  course_students_enrolled  \n",
       "0          Beginner                      5300  \n",
       "1      Intermediate                     17000  \n",
       "2             Mixed                    130000  \n",
       "3             Mixed                     91000  \n",
       "4             Mixed                    320000  "
      ]
     },
     "execution_count": 49,
     "metadata": {},
     "output_type": "execute_result"
    }
   ],
   "source": [
    "df = df.drop(columns=['Unnamed: 0'])\n",
    "df['course_students_enrolled'] = df['course_students_enrolled'].replace(\n",
    "    {'k': '*1e3', 'm': '*1e6'}, regex=True\n",
    "    ).map(pd.eval).astype(int)  \n",
    "df.head()"
   ]
  },
  {
   "cell_type": "markdown",
   "metadata": {},
   "source": [
    "#### **1.3 Check for Duplicates**\n",
    "\n",
    "duplicated and sum are used to identify the duplicate values in the data frame. "
   ]
  },
  {
   "cell_type": "code",
   "execution_count": 50,
   "metadata": {},
   "outputs": [
    {
     "data": {
      "text/plain": [
       "0"
      ]
     },
     "execution_count": 50,
     "metadata": {},
     "output_type": "execute_result"
    }
   ],
   "source": [
    "df.duplicated().sum()"
   ]
  },
  {
   "cell_type": "markdown",
   "metadata": {},
   "source": [
    "**No duplicated values found** within the dataframe. No cleaning from duplicates is needed. "
   ]
  },
  {
   "cell_type": "markdown",
   "metadata": {},
   "source": [
    "#### **1.4 Check for Outliers in Course Students Enrolled**\n",
    "\n",
    "A boxplot will be used to visualize the distribution of data and detect outliers."
   ]
  },
  {
   "cell_type": "code",
   "execution_count": 51,
   "metadata": {},
   "outputs": [
    {
     "data": {
      "image/png": "[encoded data removed]",
      "text/plain": [
       "<Figure size 600x400 with 1 Axes>"
      ]
     },
     "metadata": {},
     "output_type": "display_data"
    }
   ],
   "source": [
    "plt.figure(figsize=(6, 4))\n",
    "sns.boxplot(x=df[\"course_students_enrolled\"])\n",
    "plt.title(\"Boxplot of Students Enrolled\")\n",
    "plt.show()"
   ]
  },
  {
   "cell_type": "markdown",
   "metadata": {},
   "source": [
    "We can see **many dots above the whiskers**, hence some courses might have an **abnormally high number of students**.\n",
    "\n",
    "Courses with extremely high enrollments (e.g., millions of students) can distort our analysis. These outliers affect the mean, make visualizations harder to interpret, and might be errors or special cases. By removing them, we ensure a clearer, more representative analysis of typical course enrollments.\n",
    "\n",
    "**However, the Outliers will not be removed as:** \n",
    "- A very popular course (high enrollments) is not an error but an important trend.\n",
    "- A low-enrollment course might still have high ratings and niche value.\n",
    "- Removing them would hide insights about what makes courses successful or unpopular.\n",
    "\n",
    "Outliers can be reviewed: "
   ]
  },
  {
   "cell_type": "code",
   "execution_count": 52,
   "metadata": {},
   "outputs": [
    {
     "data": {
      "text/html": [
       "<div>\n",
       "<style scoped>\n",
       "    .dataframe tbody tr th:only-of-type {\n",
       "        vertical-align: middle;\n",
       "    }\n",
       "\n",
       "    .dataframe tbody tr th {\n",
       "        vertical-align: top;\n",
       "    }\n",
       "\n",
       "    .dataframe thead th {\n",
       "        text-align: right;\n",
       "    }\n",
       "</style>\n",
       "<table border=\"1\" class=\"dataframe\">\n",
       "  <thead>\n",
       "    <tr style=\"text-align: right;\">\n",
       "      <th></th>\n",
       "      <th>course_title</th>\n",
       "      <th>course_organization</th>\n",
       "      <th>course_Certificate_type</th>\n",
       "      <th>course_rating</th>\n",
       "      <th>course_difficulty</th>\n",
       "      <th>course_students_enrolled</th>\n",
       "    </tr>\n",
       "  </thead>\n",
       "  <tbody>\n",
       "    <tr>\n",
       "      <th>4</th>\n",
       "      <td>A Life of Happiness and Fulfillment</td>\n",
       "      <td>Indian School of Business</td>\n",
       "      <td>COURSE</td>\n",
       "      <td>4.8</td>\n",
       "      <td>Mixed</td>\n",
       "      <td>320000</td>\n",
       "    </tr>\n",
       "    <tr>\n",
       "      <th>6</th>\n",
       "      <td>AI For Everyone</td>\n",
       "      <td>deeplearning.ai</td>\n",
       "      <td>COURSE</td>\n",
       "      <td>4.8</td>\n",
       "      <td>Beginner</td>\n",
       "      <td>350000</td>\n",
       "    </tr>\n",
       "    <tr>\n",
       "      <th>18</th>\n",
       "      <td>Academic English: Writing</td>\n",
       "      <td>University of California, Irvine</td>\n",
       "      <td>SPECIALIZATION</td>\n",
       "      <td>4.7</td>\n",
       "      <td>Beginner</td>\n",
       "      <td>540000</td>\n",
       "    </tr>\n",
       "    <tr>\n",
       "      <th>27</th>\n",
       "      <td>Advanced Data Science with IBM</td>\n",
       "      <td>IBM</td>\n",
       "      <td>SPECIALIZATION</td>\n",
       "      <td>4.4</td>\n",
       "      <td>Advanced</td>\n",
       "      <td>320000</td>\n",
       "    </tr>\n",
       "    <tr>\n",
       "      <th>43</th>\n",
       "      <td>An Introduction to Programming the Internet of...</td>\n",
       "      <td>University of California, Irvine</td>\n",
       "      <td>SPECIALIZATION</td>\n",
       "      <td>4.6</td>\n",
       "      <td>Beginner</td>\n",
       "      <td>270000</td>\n",
       "    </tr>\n",
       "    <tr>\n",
       "      <th>...</th>\n",
       "      <td>...</td>\n",
       "      <td>...</td>\n",
       "      <td>...</td>\n",
       "      <td>...</td>\n",
       "      <td>...</td>\n",
       "      <td>...</td>\n",
       "    </tr>\n",
       "    <tr>\n",
       "      <th>816</th>\n",
       "      <td>The Singer Songwriter</td>\n",
       "      <td>Berklee College of Music</td>\n",
       "      <td>SPECIALIZATION</td>\n",
       "      <td>4.8</td>\n",
       "      <td>Beginner</td>\n",
       "      <td>320000</td>\n",
       "    </tr>\n",
       "    <tr>\n",
       "      <th>850</th>\n",
       "      <td>Using Python to Access Web Data</td>\n",
       "      <td>University of Michigan</td>\n",
       "      <td>COURSE</td>\n",
       "      <td>4.8</td>\n",
       "      <td>Mixed</td>\n",
       "      <td>310000</td>\n",
       "    </tr>\n",
       "    <tr>\n",
       "      <th>859</th>\n",
       "      <td>Web Design for Everybody: Basics of Web Develo...</td>\n",
       "      <td>University of Michigan</td>\n",
       "      <td>SPECIALIZATION</td>\n",
       "      <td>4.7</td>\n",
       "      <td>Beginner</td>\n",
       "      <td>280000</td>\n",
       "    </tr>\n",
       "    <tr>\n",
       "      <th>864</th>\n",
       "      <td>What is Data Science?</td>\n",
       "      <td>IBM</td>\n",
       "      <td>COURSE</td>\n",
       "      <td>4.7</td>\n",
       "      <td>Beginner</td>\n",
       "      <td>260000</td>\n",
       "    </tr>\n",
       "    <tr>\n",
       "      <th>869</th>\n",
       "      <td>Write Professional Emails in English</td>\n",
       "      <td>Georgia Institute of Technology</td>\n",
       "      <td>COURSE</td>\n",
       "      <td>4.7</td>\n",
       "      <td>Mixed</td>\n",
       "      <td>270000</td>\n",
       "    </tr>\n",
       "  </tbody>\n",
       "</table>\n",
       "<p>78 rows × 6 columns</p>\n",
       "</div>"
      ],
      "text/plain": [
       "                                          course_title  \\\n",
       "4                  A Life of Happiness and Fulfillment   \n",
       "6                                      AI For Everyone   \n",
       "18                           Academic English: Writing   \n",
       "27                      Advanced Data Science with IBM   \n",
       "43   An Introduction to Programming the Internet of...   \n",
       "..                                                 ...   \n",
       "816                              The Singer Songwriter   \n",
       "850                    Using Python to Access Web Data   \n",
       "859  Web Design for Everybody: Basics of Web Develo...   \n",
       "864                              What is Data Science?   \n",
       "869               Write Professional Emails in English   \n",
       "\n",
       "                  course_organization course_Certificate_type  course_rating  \\\n",
       "4           Indian School of Business                  COURSE            4.8   \n",
       "6                     deeplearning.ai                  COURSE            4.8   \n",
       "18   University of California, Irvine          SPECIALIZATION            4.7   \n",
       "27                                IBM          SPECIALIZATION            4.4   \n",
       "43   University of California, Irvine          SPECIALIZATION            4.6   \n",
       "..                                ...                     ...            ...   \n",
       "816          Berklee College of Music          SPECIALIZATION            4.8   \n",
       "850            University of Michigan                  COURSE            4.8   \n",
       "859            University of Michigan          SPECIALIZATION            4.7   \n",
       "864                               IBM                  COURSE            4.7   \n",
       "869   Georgia Institute of Technology                  COURSE            4.7   \n",
       "\n",
       "    course_difficulty  course_students_enrolled  \n",
       "4               Mixed                    320000  \n",
       "6            Beginner                    350000  \n",
       "18           Beginner                    540000  \n",
       "27           Advanced                    320000  \n",
       "43           Beginner                    270000  \n",
       "..                ...                       ...  \n",
       "816          Beginner                    320000  \n",
       "850             Mixed                    310000  \n",
       "859          Beginner                    280000  \n",
       "864          Beginner                    260000  \n",
       "869             Mixed                    270000  \n",
       "\n",
       "[78 rows x 6 columns]"
      ]
     },
     "execution_count": 52,
     "metadata": {},
     "output_type": "execute_result"
    }
   ],
   "source": [
    "Q1 = df[\"course_students_enrolled\"].quantile(0.25)\n",
    "Q3 = df[\"course_students_enrolled\"].quantile(0.75)\n",
    "IQR = Q3 - Q1\n",
    "\n",
    "lower_bound = Q1 - 1.5 * IQR\n",
    "upper_bound = Q3 + 1.5 * IQR\n",
    "\n",
    "outliers = df[(df[\"course_students_enrolled\"] < lower_bound) | (df[\"course_students_enrolled\"] > upper_bound)]\n",
    "\n",
    "\n",
    "outliers"
   ]
  },
  {
   "cell_type": "markdown",
   "metadata": {},
   "source": [
    "## **2. Exploratory Data Analysis**\n",
    "The data was cleaned from outliers, there were no duplicates, data types were corrected. Hence analysis of the Courses can be made.      "
   ]
  },
  {
   "cell_type": "markdown",
   "metadata": {},
   "source": [
    "#### **2.1 Distribution of Course Ratings**\n",
    "\n",
    "Plotly was used to visualize the distribution of course ratings interactively. \n",
    "\n",
    "###### **Please know, that exact counts and zoom is only available in Jupiter notebook*"
   ]
  },
  {
   "cell_type": "code",
   "execution_count": 53,
   "metadata": {},
   "outputs": [
    {
     "data": {
      "application/vnd.plotly.v1+json": {
       "config": {
        "plotlyServerURL": "https://plot.ly"
       },
       "data": [
        {
         "bingroup": "x",
         "hovertemplate": "course_rating=%{x}<br>count=%{y}<extra></extra>",
         "legendgroup": "",
         "marker": {
          "color": "#636efa",
          "pattern": {
           "shape": ""
          }
         },
         "name": "",
         "nbinsx": 10,
         "orientation": "v",
         "showlegend": false,
         "type": "histogram",
         "x": {
          "bdata": "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",
          "dtype": "f8"
         },
         "xaxis": "x",
         "yaxis": "y"
        }
       ],
       "layout": {
        "barmode": "relative",
        "legend": {
         "tracegroupgap": 0
        },
        "template": {
         "data": {
          "bar": [
           {
            "error_x": {
             "color": "#2a3f5f"
            },
            "error_y": {
             "color": "#2a3f5f"
            },
            "marker": {
             "line": {
              "color": "#E5ECF6",
              "width": 0.5
             },
             "pattern": {
              "fillmode": "overlay",
              "size": 10,
              "solidity": 0.2
             }
            },
            "type": "bar"
           }
          ],
          "barpolar": [
           {
            "marker": {
             "line": {
              "color": "#E5ECF6",
              "width": 0.5
             },
             "pattern": {
              "fillmode": "overlay",
              "size": 10,
              "solidity": 0.2
             }
            },
            "type": "barpolar"
           }
          ],
          "carpet": [
           {
            "aaxis": {
             "endlinecolor": "#2a3f5f",
             "gridcolor": "white",
             "linecolor": "white",
             "minorgridcolor": "white",
             "startlinecolor": "#2a3f5f"
            },
            "baxis": {
             "endlinecolor": "#2a3f5f",
             "gridcolor": "white",
             "linecolor": "white",
             "minorgridcolor": "white",
             "startlinecolor": "#2a3f5f"
            },
            "type": "carpet"
           }
          ],
          "choropleth": [
           {
            "colorbar": {
             "outlinewidth": 0,
             "ticks": ""
            },
            "type": "choropleth"
           }
          ],
          "contour": [
           {
            "colorbar": {
             "outlinewidth": 0,
             "ticks": ""
            },
            "colorscale": [
             [
              0,
              "#0d0887"
             ],
             [
              0.1111111111111111,
              "#46039f"
             ],
             [
              0.2222222222222222,
              "#7201a8"
             ],
             [
              0.3333333333333333,
              "#9c179e"
             ],
             [
              0.4444444444444444,
              "#bd3786"
             ],
             [
              0.5555555555555556,
              "#d8576b"
             ],
             [
              0.6666666666666666,
              "#ed7953"
             ],
             [
              0.7777777777777778,
              "#fb9f3a"
             ],
             [
              0.8888888888888888,
              "#fdca26"
             ],
             [
              1,
              "#f0f921"
             ]
            ],
            "type": "contour"
           }
          ],
          "contourcarpet": [
           {
            "colorbar": {
             "outlinewidth": 0,
             "ticks": ""
            },
            "type": "contourcarpet"
           }
          ],
          "heatmap": [
           {
            "colorbar": {
             "outlinewidth": 0,
             "ticks": ""
            },
            "colorscale": [
             [
              0,
              "#0d0887"
             ],
             [
              0.1111111111111111,
              "#46039f"
             ],
             [
              0.2222222222222222,
              "#7201a8"
             ],
             [
              0.3333333333333333,
              "#9c179e"
             ],
             [
              0.4444444444444444,
              "#bd3786"
             ],
             [
              0.5555555555555556,
              "#d8576b"
             ],
             [
              0.6666666666666666,
              "#ed7953"
             ],
             [
              0.7777777777777778,
              "#fb9f3a"
             ],
             [
              0.8888888888888888,
              "#fdca26"
             ],
             [
              1,
              "#f0f921"
             ]
            ],
            "type": "heatmap"
           }
          ],
          "histogram": [
           {
            "marker": {
             "pattern": {
              "fillmode": "overlay",
              "size": 10,
              "solidity": 0.2
             }
            },
            "type": "histogram"
           }
          ],
          "histogram2d": [
           {
            "colorbar": {
             "outlinewidth": 0,
             "ticks": ""
            },
            "colorscale": [
             [
              0,
              "#0d0887"
             ],
             [
              0.1111111111111111,
              "#46039f"
             ],
             [
              0.2222222222222222,
              "#7201a8"
             ],
             [
              0.3333333333333333,
              "#9c179e"
             ],
             [
              0.4444444444444444,
              "#bd3786"
             ],
             [
              0.5555555555555556,
              "#d8576b"
             ],
             [
              0.6666666666666666,
              "#ed7953"
             ],
             [
              0.7777777777777778,
              "#fb9f3a"
             ],
             [
              0.8888888888888888,
              "#fdca26"
             ],
             [
              1,
              "#f0f921"
             ]
            ],
            "type": "histogram2d"
           }
          ],
          "histogram2dcontour": [
           {
            "colorbar": {
             "outlinewidth": 0,
             "ticks": ""
            },
            "colorscale": [
             [
              0,
              "#0d0887"
             ],
             [
              0.1111111111111111,
              "#46039f"
             ],
             [
              0.2222222222222222,
              "#7201a8"
             ],
             [
              0.3333333333333333,
              "#9c179e"
             ],
             [
              0.4444444444444444,
              "#bd3786"
             ],
             [
              0.5555555555555556,
              "#d8576b"
             ],
             [
              0.6666666666666666,
              "#ed7953"
             ],
             [
              0.7777777777777778,
              "#fb9f3a"
             ],
             [
              0.8888888888888888,
              "#fdca26"
             ],
             [
              1,
              "#f0f921"
             ]
            ],
            "type": "histogram2dcontour"
           }
          ],
          "mesh3d": [
           {
            "colorbar": {
             "outlinewidth": 0,
             "ticks": ""
            },
            "type": "mesh3d"
           }
          ],
          "parcoords": [
           {
            "line": {
             "colorbar": {
              "outlinewidth": 0,
              "ticks": ""
             }
            },
            "type": "parcoords"
           }
          ],
          "pie": [
           {
            "automargin": true,
            "type": "pie"
           }
          ],
          "scatter": [
           {
            "fillpattern": {
             "fillmode": "overlay",
             "size": 10,
             "solidity": 0.2
            },
            "type": "scatter"
           }
          ],
          "scatter3d": [
           {
            "line": {
             "colorbar": {
              "outlinewidth": 0,
              "ticks": ""
             }
            },
            "marker": {
             "colorbar": {
              "outlinewidth": 0,
              "ticks": ""
             }
            },
            "type": "scatter3d"
           }
          ],
          "scattercarpet": [
           {
            "marker": {
             "colorbar": {
              "outlinewidth": 0,
              "ticks": ""
             }
            },
            "type": "scattercarpet"
           }
          ],
          "scattergeo": [
           {
            "marker": {
             "colorbar": {
              "outlinewidth": 0,
              "ticks": ""
             }
            },
            "type": "scattergeo"
           }
          ],
          "scattergl": [
           {
            "marker": {
             "colorbar": {
              "outlinewidth": 0,
              "ticks": ""
             }
            },
            "type": "scattergl"
           }
          ],
          "scattermap": [
           {
            "marker": {
             "colorbar": {
              "outlinewidth": 0,
              "ticks": ""
             }
            },
            "type": "scattermap"
           }
          ],
          "scattermapbox": [
           {
            "marker": {
             "colorbar": {
              "outlinewidth": 0,
              "ticks": ""
             }
            },
            "type": "scattermapbox"
           }
          ],
          "scatterpolar": [
           {
            "marker": {
             "colorbar": {
              "outlinewidth": 0,
              "ticks": ""
             }
            },
            "type": "scatterpolar"
           }
          ],
          "scatterpolargl": [
           {
            "marker": {
             "colorbar": {
              "outlinewidth": 0,
              "ticks": ""
             }
            },
            "type": "scatterpolargl"
           }
          ],
          "scatterternary": [
           {
            "marker": {
             "colorbar": {
              "outlinewidth": 0,
              "ticks": ""
             }
            },
            "type": "scatterternary"
           }
          ],
          "surface": [
           {
            "colorbar": {
             "outlinewidth": 0,
             "ticks": ""
            },
            "colorscale": [
             [
              0,
              "#0d0887"
             ],
             [
              0.1111111111111111,
              "#46039f"
             ],
             [
              0.2222222222222222,
              "#7201a8"
             ],
             [
              0.3333333333333333,
              "#9c179e"
             ],
             [
              0.4444444444444444,
              "#bd3786"
             ],
             [
              0.5555555555555556,
              "#d8576b"
             ],
             [
              0.6666666666666666,
              "#ed7953"
             ],
             [
              0.7777777777777778,
              "#fb9f3a"
             ],
             [
              0.8888888888888888,
              "#fdca26"
             ],
             [
              1,
              "#f0f921"
             ]
            ],
            "type": "surface"
           }
          ],
          "table": [
           {
            "cells": {
             "fill": {
              "color": "#EBF0F8"
             },
             "line": {
              "color": "white"
             }
            },
            "header": {
             "fill": {
              "color": "#C8D4E3"
             },
             "line": {
              "color": "white"
             }
            },
            "type": "table"
           }
          ]
         },
         "layout": {
          "annotationdefaults": {
           "arrowcolor": "#2a3f5f",
           "arrowhead": 0,
           "arrowwidth": 1
          },
          "autotypenumbers": "strict",
          "coloraxis": {
           "colorbar": {
            "outlinewidth": 0,
            "ticks": ""
           }
          },
          "colorscale": {
           "diverging": [
            [
             0,
             "#8e0152"
            ],
            [
             0.1,
             "#c51b7d"
            ],
            [
             0.2,
             "#de77ae"
            ],
            [
             0.3,
             "#f1b6da"
            ],
            [
             0.4,
             "#fde0ef"
            ],
            [
             0.5,
             "#f7f7f7"
            ],
            [
             0.6,
             "#e6f5d0"
            ],
            [
             0.7,
             "#b8e186"
            ],
            [
             0.8,
             "#7fbc41"
            ],
            [
             0.9,
             "#4d9221"
            ],
            [
             1,
             "#276419"
            ]
           ],
           "sequential": [
            [
             0,
             "#0d0887"
            ],
            [
             0.1111111111111111,
             "#46039f"
            ],
            [
             0.2222222222222222,
             "#7201a8"
            ],
            [
             0.3333333333333333,
             "#9c179e"
            ],
            [
             0.4444444444444444,
             "#bd3786"
            ],
            [
             0.5555555555555556,
             "#d8576b"
            ],
            [
             0.6666666666666666,
             "#ed7953"
            ],
            [
             0.7777777777777778,
             "#fb9f3a"
            ],
            [
             0.8888888888888888,
             "#fdca26"
            ],
            [
             1,
             "#f0f921"
            ]
           ],
           "sequentialminus": [
            [
             0,
             "#0d0887"
            ],
            [
             0.1111111111111111,
             "#46039f"
            ],
            [
             0.2222222222222222,
             "#7201a8"
            ],
            [
             0.3333333333333333,
             "#9c179e"
            ],
            [
             0.4444444444444444,
             "#bd3786"
            ],
            [
             0.5555555555555556,
             "#d8576b"
            ],
            [
             0.6666666666666666,
             "#ed7953"
            ],
            [
             0.7777777777777778,
             "#fb9f3a"
            ],
            [
             0.8888888888888888,
             "#fdca26"
            ],
            [
             1,
             "#f0f921"
            ]
           ]
          },
          "colorway": [
           "#636efa",
           "#EF553B",
           "#00cc96",
           "#ab63fa",
           "#FFA15A",
           "#19d3f3",
           "#FF6692",
           "#B6E880",
           "#FF97FF",
           "#FECB52"
          ],
          "font": {
           "color": "#2a3f5f"
          },
          "geo": {
           "bgcolor": "white",
           "lakecolor": "white",
           "landcolor": "#E5ECF6",
           "showlakes": true,
           "showland": true,
           "subunitcolor": "white"
          },
          "hoverlabel": {
           "align": "left"
          },
          "hovermode": "closest",
          "mapbox": {
           "style": "light"
          },
          "paper_bgcolor": "white",
          "plot_bgcolor": "#E5ECF6",
          "polar": {
           "angularaxis": {
            "gridcolor": "white",
            "linecolor": "white",
            "ticks": ""
           },
           "bgcolor": "#E5ECF6",
           "radialaxis": {
            "gridcolor": "white",
            "linecolor": "white",
            "ticks": ""
           }
          },
          "scene": {
           "xaxis": {
            "backgroundcolor": "#E5ECF6",
            "gridcolor": "white",
            "gridwidth": 2,
            "linecolor": "white",
            "showbackground": true,
            "ticks": "",
            "zerolinecolor": "white"
           },
           "yaxis": {
            "backgroundcolor": "#E5ECF6",
            "gridcolor": "white",
            "gridwidth": 2,
            "linecolor": "white",
            "showbackground": true,
            "ticks": "",
            "zerolinecolor": "white"
           },
           "zaxis": {
            "backgroundcolor": "#E5ECF6",
            "gridcolor": "white",
            "gridwidth": 2,
            "linecolor": "white",
            "showbackground": true,
            "ticks": "",
            "zerolinecolor": "white"
           }
          },
          "shapedefaults": {
           "line": {
            "color": "#2a3f5f"
           }
          },
          "ternary": {
           "aaxis": {
            "gridcolor": "white",
            "linecolor": "white",
            "ticks": ""
           },
           "baxis": {
            "gridcolor": "white",
            "linecolor": "white",
            "ticks": ""
           },
           "bgcolor": "#E5ECF6",
           "caxis": {
            "gridcolor": "white",
            "linecolor": "white",
            "ticks": ""
           }
          },
          "title": {
           "x": 0.05
          },
          "xaxis": {
           "automargin": true,
           "gridcolor": "white",
           "linecolor": "white",
           "ticks": "",
           "title": {
            "standoff": 15
           },
           "zerolinecolor": "white",
           "zerolinewidth": 2
          },
          "yaxis": {
           "automargin": true,
           "gridcolor": "white",
           "linecolor": "white",
           "ticks": "",
           "title": {
            "standoff": 15
           },
           "zerolinecolor": "white",
           "zerolinewidth": 2
          }
         }
        },
        "title": {
         "text": "Distribution of Course Ratings"
        },
        "xaxis": {
         "anchor": "y",
         "domain": [
          0,
          1
         ],
         "title": {
          "text": "Course Rating"
         }
        },
        "yaxis": {
         "anchor": "x",
         "domain": [
          0,
          1
         ],
         "title": {
          "text": "Number of Courses"
         }
        }
       }
      }
     },
     "metadata": {},
     "output_type": "display_data"
    }
   ],
   "source": [
    "fig = px.histogram(df, x=\"course_rating\", nbins=10, title=\"Distribution of Course Ratings\")\n",
    "fig.update_layout(xaxis_title=\"Course Rating\", yaxis_title=\"Number of Courses\")\n",
    "fig.show()"
   ]
  },
  {
   "cell_type": "markdown",
   "metadata": {},
   "source": [
    "The majority of the **course ratings** are from **4.6 to 4.7**, 419 courses are ranked this way."
   ]
  },
  {
   "cell_type": "markdown",
   "metadata": {},
   "source": [
    "#### **2.2 Correlation between course rating and student involvement**\n",
    "Spearman correlation was used, since it measures the monotonic relationship (whether variables increase/decrease together, but not necessarily linearly). To see if the course rating depends on the number of enrollments."
   ]
  },
  {
   "cell_type": "code",
   "execution_count": 54,
   "metadata": {},
   "outputs": [
    {
     "name": "stdout",
     "output_type": "stream",
     "text": [
      "Correlation between students enrolled and course_rating: 0.026831305499584096\n"
     ]
    }
   ],
   "source": [
    "spearman_corr = df['course_students_enrolled'].corr(df['course_rating'], method='spearman')\n",
    "print(f\"Correlation between students enrolled and course_rating: {spearman_corr}\")"
   ]
  },
  {
   "cell_type": "markdown",
   "metadata": {},
   "source": [
    "**Correlation is close to 0**, there is no significant relationship between the two variables."
   ]
  },
  {
   "cell_type": "markdown",
   "metadata": {},
   "source": [
    "#### **2.3 Number of Courses by Difficulty Level**\n",
    "\n",
    "Plotly was used to visualize the course dificulty by their numbers interactively. \n",
    "\n",
    "df_count was created to show the number of cources and sort_values to display from highest to lowest. \n",
    "\n",
    "###### **Please know, that exact counts and zoom is only available in Jupiter notebook*"
   ]
  },
  {
   "cell_type": "code",
   "execution_count": 55,
   "metadata": {},
   "outputs": [
    {
     "data": {
      "application/vnd.plotly.v1+json": {
       "config": {
        "plotlyServerURL": "https://plot.ly"
       },
       "data": [
        {
         "hovertemplate": "Difficulty Level=%{x}<br>Number of Courses=%{y}<extra></extra>",
         "legendgroup": "",
         "marker": {
          "color": "#636efa",
          "pattern": {
           "shape": ""
          }
         },
         "name": "",
         "orientation": "v",
         "showlegend": false,
         "textposition": "auto",
         "type": "bar",
         "x": [
          "Beginner",
          "Intermediate",
          "Mixed",
          "Advanced"
         ],
         "xaxis": "x",
         "y": {
          "bdata": "5wHGALsAEwA=",
          "dtype": "i2"
         },
         "yaxis": "y"
        }
       ],
       "layout": {
        "barmode": "relative",
        "legend": {
         "tracegroupgap": 0
        },
        "template": {
         "data": {
          "bar": [
           {
            "error_x": {
             "color": "#2a3f5f"
            },
            "error_y": {
             "color": "#2a3f5f"
            },
            "marker": {
             "line": {
              "color": "#E5ECF6",
              "width": 0.5
             },
             "pattern": {
              "fillmode": "overlay",
              "size": 10,
              "solidity": 0.2
             }
            },
            "type": "bar"
           }
          ],
          "barpolar": [
           {
            "marker": {
             "line": {
              "color": "#E5ECF6",
              "width": 0.5
             },
             "pattern": {
              "fillmode": "overlay",
              "size": 10,
              "solidity": 0.2
             }
            },
            "type": "barpolar"
           }
          ],
          "carpet": [
           {
            "aaxis": {
             "endlinecolor": "#2a3f5f",
             "gridcolor": "white",
             "linecolor": "white",
             "minorgridcolor": "white",
             "startlinecolor": "#2a3f5f"
            },
            "baxis": {
             "endlinecolor": "#2a3f5f",
             "gridcolor": "white",
             "linecolor": "white",
             "minorgridcolor": "white",
             "startlinecolor": "#2a3f5f"
            },
            "type": "carpet"
           }
          ],
          "choropleth": [
           {
            "colorbar": {
             "outlinewidth": 0,
             "ticks": ""
            },
            "type": "choropleth"
           }
          ],
          "contour": [
           {
            "colorbar": {
             "outlinewidth": 0,
             "ticks": ""
            },
            "colorscale": [
             [
              0,
              "#0d0887"
             ],
             [
              0.1111111111111111,
              "#46039f"
             ],
             [
              0.2222222222222222,
              "#7201a8"
             ],
             [
              0.3333333333333333,
              "#9c179e"
             ],
             [
              0.4444444444444444,
              "#bd3786"
             ],
             [
              0.5555555555555556,
              "#d8576b"
             ],
             [
              0.6666666666666666,
              "#ed7953"
             ],
             [
              0.7777777777777778,
              "#fb9f3a"
             ],
             [
              0.8888888888888888,
              "#fdca26"
             ],
             [
              1,
              "#f0f921"
             ]
            ],
            "type": "contour"
           }
          ],
          "contourcarpet": [
           {
            "colorbar": {
             "outlinewidth": 0,
             "ticks": ""
            },
            "type": "contourcarpet"
           }
          ],
          "heatmap": [
           {
            "colorbar": {
             "outlinewidth": 0,
             "ticks": ""
            },
            "colorscale": [
             [
              0,
              "#0d0887"
             ],
             [
              0.1111111111111111,
              "#46039f"
             ],
             [
              0.2222222222222222,
              "#7201a8"
             ],
             [
              0.3333333333333333,
              "#9c179e"
             ],
             [
              0.4444444444444444,
              "#bd3786"
             ],
             [
              0.5555555555555556,
              "#d8576b"
             ],
             [
              0.6666666666666666,
              "#ed7953"
             ],
             [
              0.7777777777777778,
              "#fb9f3a"
             ],
             [
              0.8888888888888888,
              "#fdca26"
             ],
             [
              1,
              "#f0f921"
             ]
            ],
            "type": "heatmap"
           }
          ],
          "histogram": [
           {
            "marker": {
             "pattern": {
              "fillmode": "overlay",
              "size": 10,
              "solidity": 0.2
             }
            },
            "type": "histogram"
           }
          ],
          "histogram2d": [
           {
            "colorbar": {
             "outlinewidth": 0,
             "ticks": ""
            },
            "colorscale": [
             [
              0,
              "#0d0887"
             ],
             [
              0.1111111111111111,
              "#46039f"
             ],
             [
              0.2222222222222222,
              "#7201a8"
             ],
             [
              0.3333333333333333,
              "#9c179e"
             ],
             [
              0.4444444444444444,
              "#bd3786"
             ],
             [
              0.5555555555555556,
              "#d8576b"
             ],
             [
              0.6666666666666666,
              "#ed7953"
             ],
             [
              0.7777777777777778,
              "#fb9f3a"
             ],
             [
              0.8888888888888888,
              "#fdca26"
             ],
             [
              1,
              "#f0f921"
             ]
            ],
            "type": "histogram2d"
           }
          ],
          "histogram2dcontour": [
           {
            "colorbar": {
             "outlinewidth": 0,
             "ticks": ""
            },
            "colorscale": [
             [
              0,
              "#0d0887"
             ],
             [
              0.1111111111111111,
              "#46039f"
             ],
             [
              0.2222222222222222,
              "#7201a8"
             ],
             [
              0.3333333333333333,
              "#9c179e"
             ],
             [
              0.4444444444444444,
              "#bd3786"
             ],
             [
              0.5555555555555556,
              "#d8576b"
             ],
             [
              0.6666666666666666,
              "#ed7953"
             ],
             [
              0.7777777777777778,
              "#fb9f3a"
             ],
             [
              0.8888888888888888,
              "#fdca26"
             ],
             [
              1,
              "#f0f921"
             ]
            ],
            "type": "histogram2dcontour"
           }
          ],
          "mesh3d": [
           {
            "colorbar": {
             "outlinewidth": 0,
             "ticks": ""
            },
            "type": "mesh3d"
           }
          ],
          "parcoords": [
           {
            "line": {
             "colorbar": {
              "outlinewidth": 0,
              "ticks": ""
             }
            },
            "type": "parcoords"
           }
          ],
          "pie": [
           {
            "automargin": true,
            "type": "pie"
           }
          ],
          "scatter": [
           {
            "fillpattern": {
             "fillmode": "overlay",
             "size": 10,
             "solidity": 0.2
            },
            "type": "scatter"
           }
          ],
          "scatter3d": [
           {
            "line": {
             "colorbar": {
              "outlinewidth": 0,
              "ticks": ""
             }
            },
            "marker": {
             "colorbar": {
              "outlinewidth": 0,
              "ticks": ""
             }
            },
            "type": "scatter3d"
           }
          ],
          "scattercarpet": [
           {
            "marker": {
             "colorbar": {
              "outlinewidth": 0,
              "ticks": ""
             }
            },
            "type": "scattercarpet"
           }
          ],
          "scattergeo": [
           {
            "marker": {
             "colorbar": {
              "outlinewidth": 0,
              "ticks": ""
             }
            },
            "type": "scattergeo"
           }
          ],
          "scattergl": [
           {
            "marker": {
             "colorbar": {
              "outlinewidth": 0,
              "ticks": ""
             }
            },
            "type": "scattergl"
           }
          ],
          "scattermap": [
           {
            "marker": {
             "colorbar": {
              "outlinewidth": 0,
              "ticks": ""
             }
            },
            "type": "scattermap"
           }
          ],
          "scattermapbox": [
           {
            "marker": {
             "colorbar": {
              "outlinewidth": 0,
              "ticks": ""
             }
            },
            "type": "scattermapbox"
           }
          ],
          "scatterpolar": [
           {
            "marker": {
             "colorbar": {
              "outlinewidth": 0,
              "ticks": ""
             }
            },
            "type": "scatterpolar"
           }
          ],
          "scatterpolargl": [
           {
            "marker": {
             "colorbar": {
              "outlinewidth": 0,
              "ticks": ""
             }
            },
            "type": "scatterpolargl"
           }
          ],
          "scatterternary": [
           {
            "marker": {
             "colorbar": {
              "outlinewidth": 0,
              "ticks": ""
             }
            },
            "type": "scatterternary"
           }
          ],
          "surface": [
           {
            "colorbar": {
             "outlinewidth": 0,
             "ticks": ""
            },
            "colorscale": [
             [
              0,
              "#0d0887"
             ],
             [
              0.1111111111111111,
              "#46039f"
             ],
             [
              0.2222222222222222,
              "#7201a8"
             ],
             [
              0.3333333333333333,
              "#9c179e"
             ],
             [
              0.4444444444444444,
              "#bd3786"
             ],
             [
              0.5555555555555556,
              "#d8576b"
             ],
             [
              0.6666666666666666,
              "#ed7953"
             ],
             [
              0.7777777777777778,
              "#fb9f3a"
             ],
             [
              0.8888888888888888,
              "#fdca26"
             ],
             [
              1,
              "#f0f921"
             ]
            ],
            "type": "surface"
           }
          ],
          "table": [
           {
            "cells": {
             "fill": {
              "color": "#EBF0F8"
             },
             "line": {
              "color": "white"
             }
            },
            "header": {
             "fill": {
              "color": "#C8D4E3"
             },
             "line": {
              "color": "white"
             }
            },
            "type": "table"
           }
          ]
         },
         "layout": {
          "annotationdefaults": {
           "arrowcolor": "#2a3f5f",
           "arrowhead": 0,
           "arrowwidth": 1
          },
          "autotypenumbers": "strict",
          "coloraxis": {
           "colorbar": {
            "outlinewidth": 0,
            "ticks": ""
           }
          },
          "colorscale": {
           "diverging": [
            [
             0,
             "#8e0152"
            ],
            [
             0.1,
             "#c51b7d"
            ],
            [
             0.2,
             "#de77ae"
            ],
            [
             0.3,
             "#f1b6da"
            ],
            [
             0.4,
             "#fde0ef"
            ],
            [
             0.5,
             "#f7f7f7"
            ],
            [
             0.6,
             "#e6f5d0"
            ],
            [
             0.7,
             "#b8e186"
            ],
            [
             0.8,
             "#7fbc41"
            ],
            [
             0.9,
             "#4d9221"
            ],
            [
             1,
             "#276419"
            ]
           ],
           "sequential": [
            [
             0,
             "#0d0887"
            ],
            [
             0.1111111111111111,
             "#46039f"
            ],
            [
             0.2222222222222222,
             "#7201a8"
            ],
            [
             0.3333333333333333,
             "#9c179e"
            ],
            [
             0.4444444444444444,
             "#bd3786"
            ],
            [
             0.5555555555555556,
             "#d8576b"
            ],
            [
             0.6666666666666666,
             "#ed7953"
            ],
            [
             0.7777777777777778,
             "#fb9f3a"
            ],
            [
             0.8888888888888888,
             "#fdca26"
            ],
            [
             1,
             "#f0f921"
            ]
           ],
           "sequentialminus": [
            [
             0,
             "#0d0887"
            ],
            [
             0.1111111111111111,
             "#46039f"
            ],
            [
             0.2222222222222222,
             "#7201a8"
            ],
            [
             0.3333333333333333,
             "#9c179e"
            ],
            [
             0.4444444444444444,
             "#bd3786"
            ],
            [
             0.5555555555555556,
             "#d8576b"
            ],
            [
             0.6666666666666666,
             "#ed7953"
            ],
            [
             0.7777777777777778,
             "#fb9f3a"
            ],
            [
             0.8888888888888888,
             "#fdca26"
            ],
            [
             1,
             "#f0f921"
            ]
           ]
          },
          "colorway": [
           "#636efa",
           "#EF553B",
           "#00cc96",
           "#ab63fa",
           "#FFA15A",
           "#19d3f3",
           "#FF6692",
           "#B6E880",
           "#FF97FF",
           "#FECB52"
          ],
          "font": {
           "color": "#2a3f5f"
          },
          "geo": {
           "bgcolor": "white",
           "lakecolor": "white",
           "landcolor": "#E5ECF6",
           "showlakes": true,
           "showland": true,
           "subunitcolor": "white"
          },
          "hoverlabel": {
           "align": "left"
          },
          "hovermode": "closest",
          "mapbox": {
           "style": "light"
          },
          "paper_bgcolor": "white",
          "plot_bgcolor": "#E5ECF6",
          "polar": {
           "angularaxis": {
            "gridcolor": "white",
            "linecolor": "white",
            "ticks": ""
           },
           "bgcolor": "#E5ECF6",
           "radialaxis": {
            "gridcolor": "white",
            "linecolor": "white",
            "ticks": ""
           }
          },
          "scene": {
           "xaxis": {
            "backgroundcolor": "#E5ECF6",
            "gridcolor": "white",
            "gridwidth": 2,
            "linecolor": "white",
            "showbackground": true,
            "ticks": "",
            "zerolinecolor": "white"
           },
           "yaxis": {
            "backgroundcolor": "#E5ECF6",
            "gridcolor": "white",
            "gridwidth": 2,
            "linecolor": "white",
            "showbackground": true,
            "ticks": "",
            "zerolinecolor": "white"
           },
           "zaxis": {
            "backgroundcolor": "#E5ECF6",
            "gridcolor": "white",
            "gridwidth": 2,
            "linecolor": "white",
            "showbackground": true,
            "ticks": "",
            "zerolinecolor": "white"
           }
          },
          "shapedefaults": {
           "line": {
            "color": "#2a3f5f"
           }
          },
          "ternary": {
           "aaxis": {
            "gridcolor": "white",
            "linecolor": "white",
            "ticks": ""
           },
           "baxis": {
            "gridcolor": "white",
            "linecolor": "white",
            "ticks": ""
           },
           "bgcolor": "#E5ECF6",
           "caxis": {
            "gridcolor": "white",
            "linecolor": "white",
            "ticks": ""
           }
          },
          "title": {
           "x": 0.05
          },
          "xaxis": {
           "automargin": true,
           "gridcolor": "white",
           "linecolor": "white",
           "ticks": "",
           "title": {
            "standoff": 15
           },
           "zerolinecolor": "white",
           "zerolinewidth": 2
          },
          "yaxis": {
           "automargin": true,
           "gridcolor": "white",
           "linecolor": "white",
           "ticks": "",
           "title": {
            "standoff": 15
           },
           "zerolinecolor": "white",
           "zerolinewidth": 2
          }
         }
        },
        "title": {
         "text": "Course Numbers by Difficulty"
        },
        "xaxis": {
         "anchor": "y",
         "domain": [
          0,
          1
         ],
         "title": {
          "text": "Difficulty Level"
         }
        },
        "yaxis": {
         "anchor": "x",
         "domain": [
          0,
          1
         ],
         "title": {
          "text": "Number of Courses"
         }
        }
       }
      }
     },
     "metadata": {},
     "output_type": "display_data"
    }
   ],
   "source": [
    "df_count = df.groupby('course_difficulty').size().reset_index(name='count')\n",
    "\n",
    "df_count = df_count.sort_values(by='count', ascending=False)\n",
    "\n",
    "fig = px.bar(df_count, x=\"course_difficulty\", y=\"count\", \n",
    "             title=\"Course Numbers by Difficulty\", \n",
    "             labels={\"course_difficulty\": \"Difficulty Level\", \"count\": \"Number of Courses\"})\n",
    "fig.show()\n"
   ]
  },
  {
   "cell_type": "markdown",
   "metadata": {},
   "source": [
    "The **biggest variety** of courses are for **beginners**, reaching 487 total courses.  \n",
    "\n",
    "The **smallest variety** of courses is for **advanced users**, only 19 cources can be seen."
   ]
  },
  {
   "cell_type": "markdown",
   "metadata": {},
   "source": [
    "#### **2.4 Enrollments by Difficulty Level**\n",
    "\n",
    "Plotly was used to visualize the course dificulty by their enrollments interactively. \n",
    "\n",
    "df_count was created to show the enrollments numbers and sort_values to display from highest to lowest. \n",
    "\n",
    "###### **Please know, that exact counts and zoom is only available in Jupiter notebook*"
   ]
  },
  {
   "cell_type": "code",
   "execution_count": 56,
   "metadata": {},
   "outputs": [
    {
     "data": {
      "application/vnd.plotly.v1+json": {
       "config": {
        "plotlyServerURL": "https://plot.ly"
       },
       "data": [
        {
         "hovertemplate": "Difficulty Level=%{x}<br>Total Enrollments=%{y}<extra></extra>",
         "legendgroup": "",
         "marker": {
          "color": "#636efa",
          "pattern": {
           "shape": ""
          }
         },
         "name": "",
         "orientation": "v",
         "showlegend": false,
         "textposition": "auto",
         "type": "bar",
         "x": [
          "Beginner",
          "Mixed",
          "Intermediate",
          "Advanced"
         ],
         "xaxis": "x",
         "y": {
          "bdata": "iChhAthOfQE8Wd0AEEsTAA==",
          "dtype": "i4"
         },
         "yaxis": "y"
        }
       ],
       "layout": {
        "barmode": "relative",
        "legend": {
         "tracegroupgap": 0
        },
        "template": {
         "data": {
          "bar": [
           {
            "error_x": {
             "color": "#2a3f5f"
            },
            "error_y": {
             "color": "#2a3f5f"
            },
            "marker": {
             "line": {
              "color": "#E5ECF6",
              "width": 0.5
             },
             "pattern": {
              "fillmode": "overlay",
              "size": 10,
              "solidity": 0.2
             }
            },
            "type": "bar"
           }
          ],
          "barpolar": [
           {
            "marker": {
             "line": {
              "color": "#E5ECF6",
              "width": 0.5
             },
             "pattern": {
              "fillmode": "overlay",
              "size": 10,
              "solidity": 0.2
             }
            },
            "type": "barpolar"
           }
          ],
          "carpet": [
           {
            "aaxis": {
             "endlinecolor": "#2a3f5f",
             "gridcolor": "white",
             "linecolor": "white",
             "minorgridcolor": "white",
             "startlinecolor": "#2a3f5f"
            },
            "baxis": {
             "endlinecolor": "#2a3f5f",
             "gridcolor": "white",
             "linecolor": "white",
             "minorgridcolor": "white",
             "startlinecolor": "#2a3f5f"
            },
            "type": "carpet"
           }
          ],
          "choropleth": [
           {
            "colorbar": {
             "outlinewidth": 0,
             "ticks": ""
            },
            "type": "choropleth"
           }
          ],
          "contour": [
           {
            "colorbar": {
             "outlinewidth": 0,
             "ticks": ""
            },
            "colorscale": [
             [
              0,
              "#0d0887"
             ],
             [
              0.1111111111111111,
              "#46039f"
             ],
             [
              0.2222222222222222,
              "#7201a8"
             ],
             [
              0.3333333333333333,
              "#9c179e"
             ],
             [
              0.4444444444444444,
              "#bd3786"
             ],
             [
              0.5555555555555556,
              "#d8576b"
             ],
             [
              0.6666666666666666,
              "#ed7953"
             ],
             [
              0.7777777777777778,
              "#fb9f3a"
             ],
             [
              0.8888888888888888,
              "#fdca26"
             ],
             [
              1,
              "#f0f921"
             ]
            ],
            "type": "contour"
           }
          ],
          "contourcarpet": [
           {
            "colorbar": {
             "outlinewidth": 0,
             "ticks": ""
            },
            "type": "contourcarpet"
           }
          ],
          "heatmap": [
           {
            "colorbar": {
             "outlinewidth": 0,
             "ticks": ""
            },
            "colorscale": [
             [
              0,
              "#0d0887"
             ],
             [
              0.1111111111111111,
              "#46039f"
             ],
             [
              0.2222222222222222,
              "#7201a8"
             ],
             [
              0.3333333333333333,
              "#9c179e"
             ],
             [
              0.4444444444444444,
              "#bd3786"
             ],
             [
              0.5555555555555556,
              "#d8576b"
             ],
             [
              0.6666666666666666,
              "#ed7953"
             ],
             [
              0.7777777777777778,
              "#fb9f3a"
             ],
             [
              0.8888888888888888,
              "#fdca26"
             ],
             [
              1,
              "#f0f921"
             ]
            ],
            "type": "heatmap"
           }
          ],
          "histogram": [
           {
            "marker": {
             "pattern": {
              "fillmode": "overlay",
              "size": 10,
              "solidity": 0.2
             }
            },
            "type": "histogram"
           }
          ],
          "histogram2d": [
           {
            "colorbar": {
             "outlinewidth": 0,
             "ticks": ""
            },
            "colorscale": [
             [
              0,
              "#0d0887"
             ],
             [
              0.1111111111111111,
              "#46039f"
             ],
             [
              0.2222222222222222,
              "#7201a8"
             ],
             [
              0.3333333333333333,
              "#9c179e"
             ],
             [
              0.4444444444444444,
              "#bd3786"
             ],
             [
              0.5555555555555556,
              "#d8576b"
             ],
             [
              0.6666666666666666,
              "#ed7953"
             ],
             [
              0.7777777777777778,
              "#fb9f3a"
             ],
             [
              0.8888888888888888,
              "#fdca26"
             ],
             [
              1,
              "#f0f921"
             ]
            ],
            "type": "histogram2d"
           }
          ],
          "histogram2dcontour": [
           {
            "colorbar": {
             "outlinewidth": 0,
             "ticks": ""
            },
            "colorscale": [
             [
              0,
              "#0d0887"
             ],
             [
              0.1111111111111111,
              "#46039f"
             ],
             [
              0.2222222222222222,
              "#7201a8"
             ],
             [
              0.3333333333333333,
              "#9c179e"
             ],
             [
              0.4444444444444444,
              "#bd3786"
             ],
             [
              0.5555555555555556,
              "#d8576b"
             ],
             [
              0.6666666666666666,
              "#ed7953"
             ],
             [
              0.7777777777777778,
              "#fb9f3a"
             ],
             [
              0.8888888888888888,
              "#fdca26"
             ],
             [
              1,
              "#f0f921"
             ]
            ],
            "type": "histogram2dcontour"
           }
          ],
          "mesh3d": [
           {
            "colorbar": {
             "outlinewidth": 0,
             "ticks": ""
            },
            "type": "mesh3d"
           }
          ],
          "parcoords": [
           {
            "line": {
             "colorbar": {
              "outlinewidth": 0,
              "ticks": ""
             }
            },
            "type": "parcoords"
           }
          ],
          "pie": [
           {
            "automargin": true,
            "type": "pie"
           }
          ],
          "scatter": [
           {
            "fillpattern": {
             "fillmode": "overlay",
             "size": 10,
             "solidity": 0.2
            },
            "type": "scatter"
           }
          ],
          "scatter3d": [
           {
            "line": {
             "colorbar": {
              "outlinewidth": 0,
              "ticks": ""
             }
            },
            "marker": {
             "colorbar": {
              "outlinewidth": 0,
              "ticks": ""
             }
            },
            "type": "scatter3d"
           }
          ],
          "scattercarpet": [
           {
            "marker": {
             "colorbar": {
              "outlinewidth": 0,
              "ticks": ""
             }
            },
            "type": "scattercarpet"
           }
          ],
          "scattergeo": [
           {
            "marker": {
             "colorbar": {
              "outlinewidth": 0,
              "ticks": ""
             }
            },
            "type": "scattergeo"
           }
          ],
          "scattergl": [
           {
            "marker": {
             "colorbar": {
              "outlinewidth": 0,
              "ticks": ""
             }
            },
            "type": "scattergl"
           }
          ],
          "scattermap": [
           {
            "marker": {
             "colorbar": {
              "outlinewidth": 0,
              "ticks": ""
             }
            },
            "type": "scattermap"
           }
          ],
          "scattermapbox": [
           {
            "marker": {
             "colorbar": {
              "outlinewidth": 0,
              "ticks": ""
             }
            },
            "type": "scattermapbox"
           }
          ],
          "scatterpolar": [
           {
            "marker": {
             "colorbar": {
              "outlinewidth": 0,
              "ticks": ""
             }
            },
            "type": "scatterpolar"
           }
          ],
          "scatterpolargl": [
           {
            "marker": {
             "colorbar": {
              "outlinewidth": 0,
              "ticks": ""
             }
            },
            "type": "scatterpolargl"
           }
          ],
          "scatterternary": [
           {
            "marker": {
             "colorbar": {
              "outlinewidth": 0,
              "ticks": ""
             }
            },
            "type": "scatterternary"
           }
          ],
          "surface": [
           {
            "colorbar": {
             "outlinewidth": 0,
             "ticks": ""
            },
            "colorscale": [
             [
              0,
              "#0d0887"
             ],
             [
              0.1111111111111111,
              "#46039f"
             ],
             [
              0.2222222222222222,
              "#7201a8"
             ],
             [
              0.3333333333333333,
              "#9c179e"
             ],
             [
              0.4444444444444444,
              "#bd3786"
             ],
             [
              0.5555555555555556,
              "#d8576b"
             ],
             [
              0.6666666666666666,
              "#ed7953"
             ],
             [
              0.7777777777777778,
              "#fb9f3a"
             ],
             [
              0.8888888888888888,
              "#fdca26"
             ],
             [
              1,
              "#f0f921"
             ]
            ],
            "type": "surface"
           }
          ],
          "table": [
           {
            "cells": {
             "fill": {
              "color": "#EBF0F8"
             },
             "line": {
              "color": "white"
             }
            },
            "header": {
             "fill": {
              "color": "#C8D4E3"
             },
             "line": {
              "color": "white"
             }
            },
            "type": "table"
           }
          ]
         },
         "layout": {
          "annotationdefaults": {
           "arrowcolor": "#2a3f5f",
           "arrowhead": 0,
           "arrowwidth": 1
          },
          "autotypenumbers": "strict",
          "coloraxis": {
           "colorbar": {
            "outlinewidth": 0,
            "ticks": ""
           }
          },
          "colorscale": {
           "diverging": [
            [
             0,
             "#8e0152"
            ],
            [
             0.1,
             "#c51b7d"
            ],
            [
             0.2,
             "#de77ae"
            ],
            [
             0.3,
             "#f1b6da"
            ],
            [
             0.4,
             "#fde0ef"
            ],
            [
             0.5,
             "#f7f7f7"
            ],
            [
             0.6,
             "#e6f5d0"
            ],
            [
             0.7,
             "#b8e186"
            ],
            [
             0.8,
             "#7fbc41"
            ],
            [
             0.9,
             "#4d9221"
            ],
            [
             1,
             "#276419"
            ]
           ],
           "sequential": [
            [
             0,
             "#0d0887"
            ],
            [
             0.1111111111111111,
             "#46039f"
            ],
            [
             0.2222222222222222,
             "#7201a8"
            ],
            [
             0.3333333333333333,
             "#9c179e"
            ],
            [
             0.4444444444444444,
             "#bd3786"
            ],
            [
             0.5555555555555556,
             "#d8576b"
            ],
            [
             0.6666666666666666,
             "#ed7953"
            ],
            [
             0.7777777777777778,
             "#fb9f3a"
            ],
            [
             0.8888888888888888,
             "#fdca26"
            ],
            [
             1,
             "#f0f921"
            ]
           ],
           "sequentialminus": [
            [
             0,
             "#0d0887"
            ],
            [
             0.1111111111111111,
             "#46039f"
            ],
            [
             0.2222222222222222,
             "#7201a8"
            ],
            [
             0.3333333333333333,
             "#9c179e"
            ],
            [
             0.4444444444444444,
             "#bd3786"
            ],
            [
             0.5555555555555556,
             "#d8576b"
            ],
            [
             0.6666666666666666,
             "#ed7953"
            ],
            [
             0.7777777777777778,
             "#fb9f3a"
            ],
            [
             0.8888888888888888,
             "#fdca26"
            ],
            [
             1,
             "#f0f921"
            ]
           ]
          },
          "colorway": [
           "#636efa",
           "#EF553B",
           "#00cc96",
           "#ab63fa",
           "#FFA15A",
           "#19d3f3",
           "#FF6692",
           "#B6E880",
           "#FF97FF",
           "#FECB52"
          ],
          "font": {
           "color": "#2a3f5f"
          },
          "geo": {
           "bgcolor": "white",
           "lakecolor": "white",
           "landcolor": "#E5ECF6",
           "showlakes": true,
           "showland": true,
           "subunitcolor": "white"
          },
          "hoverlabel": {
           "align": "left"
          },
          "hovermode": "closest",
          "mapbox": {
           "style": "light"
          },
          "paper_bgcolor": "white",
          "plot_bgcolor": "#E5ECF6",
          "polar": {
           "angularaxis": {
            "gridcolor": "white",
            "linecolor": "white",
            "ticks": ""
           },
           "bgcolor": "#E5ECF6",
           "radialaxis": {
            "gridcolor": "white",
            "linecolor": "white",
            "ticks": ""
           }
          },
          "scene": {
           "xaxis": {
            "backgroundcolor": "#E5ECF6",
            "gridcolor": "white",
            "gridwidth": 2,
            "linecolor": "white",
            "showbackground": true,
            "ticks": "",
            "zerolinecolor": "white"
           },
           "yaxis": {
            "backgroundcolor": "#E5ECF6",
            "gridcolor": "white",
            "gridwidth": 2,
            "linecolor": "white",
            "showbackground": true,
            "ticks": "",
            "zerolinecolor": "white"
           },
           "zaxis": {
            "backgroundcolor": "#E5ECF6",
            "gridcolor": "white",
            "gridwidth": 2,
            "linecolor": "white",
            "showbackground": true,
            "ticks": "",
            "zerolinecolor": "white"
           }
          },
          "shapedefaults": {
           "line": {
            "color": "#2a3f5f"
           }
          },
          "ternary": {
           "aaxis": {
            "gridcolor": "white",
            "linecolor": "white",
            "ticks": ""
           },
           "baxis": {
            "gridcolor": "white",
            "linecolor": "white",
            "ticks": ""
           },
           "bgcolor": "#E5ECF6",
           "caxis": {
            "gridcolor": "white",
            "linecolor": "white",
            "ticks": ""
           }
          },
          "title": {
           "x": 0.05
          },
          "xaxis": {
           "automargin": true,
           "gridcolor": "white",
           "linecolor": "white",
           "ticks": "",
           "title": {
            "standoff": 15
           },
           "zerolinecolor": "white",
           "zerolinewidth": 2
          },
          "yaxis": {
           "automargin": true,
           "gridcolor": "white",
           "linecolor": "white",
           "ticks": "",
           "title": {
            "standoff": 15
           },
           "zerolinecolor": "white",
           "zerolinewidth": 2
          }
         }
        },
        "title": {
         "text": "Total Student Enrollments by Difficulty Level"
        },
        "xaxis": {
         "anchor": "y",
         "domain": [
          0,
          1
         ],
         "title": {
          "text": "Difficulty Level"
         }
        },
        "yaxis": {
         "anchor": "x",
         "domain": [
          0,
          1
         ],
         "title": {
          "text": "Total Enrollments"
         }
        }
       }
      }
     },
     "metadata": {},
     "output_type": "display_data"
    }
   ],
   "source": [
    "df_count = df.groupby('course_difficulty')['course_students_enrolled'].sum().reset_index(name='total_enrollments')\n",
    "df_count = df_count.sort_values(by='total_enrollments', ascending=False)\n",
    "\n",
    "\n",
    "fig = px.bar(df_count, x=\"course_difficulty\", y=\"total_enrollments\", \n",
    "             title=\"Total Student Enrollments by Difficulty Level\", \n",
    "             labels={\"course_difficulty\": \"Difficulty Level\", \"total_enrollments\": \"Total Enrollments\"})\n",
    "fig.show()\n"
   ]
  },
  {
   "cell_type": "markdown",
   "metadata": {},
   "source": [
    "The **courses for beginners are most popular** as 39.9218M users are enrolled to Beginner courses.  \n",
    "\n",
    "**Advanced courses are least popular**, having only 1.2644m enrolments. "
   ]
  },
  {
   "cell_type": "markdown",
   "metadata": {},
   "source": [
    "#### **2.5 Best rated course organizations by Difficulty Level**\n",
    "\n",
    "Group and Aggregate was used from Pandas library, to group the data by both course_difficulty and course_organization, calculate the average course rating (mean) and the total number of students enrolled (sum) for each combination.\n",
    "\n",
    "transform(max) is used to identify the maximum average rating for each course_difficulty and filters to show only organizations whose average rating equals the maximum rating.\n",
    "\n",
    "Plotly was used to create a heatmap visualization of the best rated course organizations. \n",
    "\n",
    "\n",
    "###### **Please know, that exact counts and zoom is only available in Jupiter notebook*"
   ]
  },
  {
   "cell_type": "code",
   "execution_count": 57,
   "metadata": {},
   "outputs": [
    {
     "data": {
      "text/html": [
       "<div>\n",
       "<style scoped>\n",
       "    .dataframe tbody tr th:only-of-type {\n",
       "        vertical-align: middle;\n",
       "    }\n",
       "\n",
       "    .dataframe tbody tr th {\n",
       "        vertical-align: top;\n",
       "    }\n",
       "\n",
       "    .dataframe thead th {\n",
       "        text-align: right;\n",
       "    }\n",
       "</style>\n",
       "<table border=\"1\" class=\"dataframe\">\n",
       "  <thead>\n",
       "    <tr style=\"text-align: right;\">\n",
       "      <th></th>\n",
       "      <th>course_difficulty</th>\n",
       "      <th>course_organization</th>\n",
       "      <th>average_rating</th>\n",
       "      <th>total_enrollment</th>\n",
       "    </tr>\n",
       "  </thead>\n",
       "  <tbody>\n",
       "    <tr>\n",
       "      <th>1</th>\n",
       "      <td>Advanced</td>\n",
       "      <td>Duke University</td>\n",
       "      <td>4.9</td>\n",
       "      <td>170000</td>\n",
       "    </tr>\n",
       "    <tr>\n",
       "      <th>27</th>\n",
       "      <td>Beginner</td>\n",
       "      <td>Crece con Google</td>\n",
       "      <td>4.9</td>\n",
       "      <td>8800</td>\n",
       "    </tr>\n",
       "    <tr>\n",
       "      <th>52</th>\n",
       "      <td>Beginner</td>\n",
       "      <td>London Business School</td>\n",
       "      <td>4.9</td>\n",
       "      <td>57000</td>\n",
       "    </tr>\n",
       "    <tr>\n",
       "      <th>77</th>\n",
       "      <td>Beginner</td>\n",
       "      <td>ScrumTrek</td>\n",
       "      <td>4.9</td>\n",
       "      <td>12000</td>\n",
       "    </tr>\n",
       "    <tr>\n",
       "      <th>87</th>\n",
       "      <td>Beginner</td>\n",
       "      <td>The University of Chicago</td>\n",
       "      <td>4.9</td>\n",
       "      <td>130000</td>\n",
       "    </tr>\n",
       "    <tr>\n",
       "      <th>115</th>\n",
       "      <td>Beginner</td>\n",
       "      <td>University of Florida</td>\n",
       "      <td>4.9</td>\n",
       "      <td>13000</td>\n",
       "    </tr>\n",
       "    <tr>\n",
       "      <th>182</th>\n",
       "      <td>Intermediate</td>\n",
       "      <td>Universidade Estadual de Campinas</td>\n",
       "      <td>4.9</td>\n",
       "      <td>17000</td>\n",
       "    </tr>\n",
       "    <tr>\n",
       "      <th>187</th>\n",
       "      <td>Intermediate</td>\n",
       "      <td>University of Amsterdam</td>\n",
       "      <td>4.9</td>\n",
       "      <td>3900</td>\n",
       "    </tr>\n",
       "    <tr>\n",
       "      <th>209</th>\n",
       "      <td>Mixed</td>\n",
       "      <td>Arizona State University</td>\n",
       "      <td>4.9</td>\n",
       "      <td>81000</td>\n",
       "    </tr>\n",
       "    <tr>\n",
       "      <th>222</th>\n",
       "      <td>Mixed</td>\n",
       "      <td>Google - Spectrum Sharing</td>\n",
       "      <td>4.9</td>\n",
       "      <td>210000</td>\n",
       "    </tr>\n",
       "    <tr>\n",
       "      <th>224</th>\n",
       "      <td>Mixed</td>\n",
       "      <td>Hebrew University of Jerusalem</td>\n",
       "      <td>4.9</td>\n",
       "      <td>95000</td>\n",
       "    </tr>\n",
       "    <tr>\n",
       "      <th>229</th>\n",
       "      <td>Mixed</td>\n",
       "      <td>Nanyang Technological University, Singapore</td>\n",
       "      <td>4.9</td>\n",
       "      <td>47000</td>\n",
       "    </tr>\n",
       "    <tr>\n",
       "      <th>238</th>\n",
       "      <td>Mixed</td>\n",
       "      <td>Stanford University</td>\n",
       "      <td>4.9</td>\n",
       "      <td>3200000</td>\n",
       "    </tr>\n",
       "  </tbody>\n",
       "</table>\n",
       "</div>"
      ],
      "text/plain": [
       "    course_difficulty                          course_organization  \\\n",
       "1            Advanced                              Duke University   \n",
       "27           Beginner                             Crece con Google   \n",
       "52           Beginner                       London Business School   \n",
       "77           Beginner                                    ScrumTrek   \n",
       "87           Beginner                    The University of Chicago   \n",
       "115          Beginner                        University of Florida   \n",
       "182      Intermediate            Universidade Estadual de Campinas   \n",
       "187      Intermediate                      University of Amsterdam   \n",
       "209             Mixed                     Arizona State University   \n",
       "222             Mixed                    Google - Spectrum Sharing   \n",
       "224             Mixed               Hebrew University of Jerusalem   \n",
       "229             Mixed  Nanyang Technological University, Singapore   \n",
       "238             Mixed                          Stanford University   \n",
       "\n",
       "     average_rating  total_enrollment  \n",
       "1               4.9            170000  \n",
       "27              4.9              8800  \n",
       "52              4.9             57000  \n",
       "77              4.9             12000  \n",
       "87              4.9            130000  \n",
       "115             4.9             13000  \n",
       "182             4.9             17000  \n",
       "187             4.9              3900  \n",
       "209             4.9             81000  \n",
       "222             4.9            210000  \n",
       "224             4.9             95000  \n",
       "229             4.9             47000  \n",
       "238             4.9           3200000  "
      ]
     },
     "execution_count": 57,
     "metadata": {},
     "output_type": "execute_result"
    }
   ],
   "source": [
    "\n",
    "rating_by_difficulty_org = df.groupby(['course_difficulty', 'course_organization']).agg(\n",
    "    average_rating=('course_rating', 'mean'),\n",
    "    total_enrollment=('course_students_enrolled', 'sum')\n",
    ").reset_index()\n",
    "\n",
    "max_ratings = rating_by_difficulty_org.groupby('course_difficulty')['average_rating'].transform(max)\n",
    "\n",
    "top_rated_orgs = rating_by_difficulty_org[rating_by_difficulty_org['average_rating'] == max_ratings]\n",
    "\n",
    "top_rated_orgs\n"
   ]
  },
  {
   "cell_type": "code",
   "execution_count": 58,
   "metadata": {},
   "outputs": [
    {
     "data": {
      "image/png": "[encoded data removed]",
      "text/plain": [
       "<Figure size 1200x600 with 2 Axes>"
      ]
     },
     "metadata": {},
     "output_type": "display_data"
    }
   ],
   "source": [
    "heatmap_data = top_rated_orgs.pivot(index=\"course_organization\", columns=\"course_difficulty\", values=\"total_enrollment\")\n",
    "\n",
    "plt.figure(figsize=(12, 6))\n",
    "sns.heatmap(heatmap_data, cmap=\"Blues\", annot=True, fmt=\".0f\", linewidths=0.5)\n",
    "\n",
    "plt.title(\"Total Enrollments by Course Organization and Difficulty Level\")\n",
    "plt.xlabel(\"Course Difficulty\")\n",
    "plt.ylabel(\"Course Organization\")\n",
    "\n",
    "plt.show()"
   ]
  },
  {
   "cell_type": "markdown",
   "metadata": {},
   "source": [
    "The courses for **beginners** have 5 courses providers who have highest courses average ratings, the most popular is **The University of Chicago** who has the biggest **enrolment number** of all highest rated courses for beginners. \n",
    "\n",
    "The **most popular** of all course providers with highest rating is **Stanford University** designed for **mixed difficulty** users.  \n",
    "\n",
    "Only **one** course provider has the highest rating for advanced users and it is **Duke University**.\n"
   ]
  },
  {
   "cell_type": "markdown",
   "metadata": {},
   "source": [
    "#### **2.6 Top 10 most popular specialization cources with rating above average**\n",
    "\n",
    "Average of all courses was counted to represent the quality of the course higher than average and filtered by specialization courses. \n",
    "\n",
    "Plotly was used to visualize the course dificulty by their enrollments interactively. \n",
    "\n",
    "\n",
    "###### **Please know, that exact counts and zoom is only available in Jupiter notebook*"
   ]
  },
  {
   "cell_type": "code",
   "execution_count": 59,
   "metadata": {},
   "outputs": [
    {
     "data": {
      "application/vnd.plotly.v1+json": {
       "config": {
        "plotlyServerURL": "https://plot.ly"
       },
       "data": [
        {
         "customdata": [
          [
           "Beginner",
           4.7
          ]
         ],
         "hovertemplate": "<b>%{hovertext}</b><br><br>Course Organization=University of California, Irvine<br>Number of Enrollments=%{marker.size}<br>Course Title=%{y}<br>Course Difficulty=%{customdata[0]}<br>Course Rating=%{customdata[1]}<extra></extra>",
         "hovertext": [
          "Academic English: Writing"
         ],
         "legendgroup": "University of California, Irvine",
         "marker": {
          "color": "#636efa",
          "size": {
           "bdata": "YD0IAA==",
           "dtype": "i4"
          },
          "sizemode": "area",
          "sizeref": 3750,
          "symbol": "circle"
         },
         "mode": "markers",
         "name": "University of California, Irvine",
         "orientation": "h",
         "showlegend": true,
         "type": "scatter",
         "x": {
          "bdata": "YD0IAA==",
          "dtype": "i4"
         },
         "xaxis": "x",
         "y": [
          "Academic English: Writing"
         ],
         "yaxis": "y"
        },
        {
         "customdata": [
          [
           "Intermediate",
           4.7
          ],
          [
           "Intermediate",
           4.7
          ],
          [
           "Intermediate",
           4.7
          ]
         ],
         "hovertemplate": "<b>%{hovertext}</b><br><br>Course Organization=Google Cloud<br>Number of Enrollments=%{marker.size}<br>Course Title=%{y}<br>Course Difficulty=%{customdata[0]}<br>Course Rating=%{customdata[1]}<extra></extra>",
         "hovertext": [
          "Architecting with Google Compute Engine",
          "Developing Applications with Google Cloud Platform",
          "Security in Google Cloud Platform"
         ],
         "legendgroup": "Google Cloud",
         "marker": {
          "color": "#EF553B",
          "size": {
           "bdata": "8LoEAOCTBADgkwQA",
           "dtype": "i4"
          },
          "sizemode": "area",
          "sizeref": 3750,
          "symbol": "circle"
         },
         "mode": "markers",
         "name": "Google Cloud",
         "orientation": "h",
         "showlegend": true,
         "type": "scatter",
         "x": {
          "bdata": "8LoEAOCTBADgkwQA",
          "dtype": "i4"
         },
         "xaxis": "x",
         "y": [
          "Architecting with Google Compute Engine",
          "Developing Applications with Google Cloud Platform",
          "Security in Google Cloud Platform"
         ],
         "yaxis": "y"
        },
        {
         "customdata": [
          [
           "Beginner",
           4.7
          ]
         ],
         "hovertemplate": "<b>%{hovertext}</b><br><br>Course Organization=University of Pennsylvania<br>Number of Enrollments=%{marker.size}<br>Course Title=%{y}<br>Course Difficulty=%{customdata[0]}<br>Course Rating=%{customdata[1]}<extra></extra>",
         "hovertext": [
          "Business Foundations"
         ],
         "legendgroup": "University of Pennsylvania",
         "marker": {
          "color": "#00cc96",
          "size": {
           "bdata": "MMgHAA==",
           "dtype": "i4"
          },
          "sizemode": "area",
          "sizeref": 3750,
          "symbol": "circle"
         },
         "mode": "markers",
         "name": "University of Pennsylvania",
         "orientation": "h",
         "showlegend": true,
         "type": "scatter",
         "x": {
          "bdata": "MMgHAA==",
          "dtype": "i4"
         },
         "xaxis": "x",
         "y": [
          "Business Foundations"
         ],
         "yaxis": "y"
        },
        {
         "customdata": [
          [
           "Intermediate",
           4.7
          ]
         ],
         "hovertemplate": "<b>%{hovertext}</b><br><br>Course Organization=Ludwig-Maximilians-Universität München (LMU)<br>Number of Enrollments=%{marker.size}<br>Course Title=%{y}<br>Course Difficulty=%{customdata[0]}<br>Course Rating=%{customdata[1]}<extra></extra>",
         "hovertext": [
          "Competitive Strategy and Organization Design"
         ],
         "legendgroup": "Ludwig-Maximilians-Universität München (LMU)",
         "marker": {
          "color": "#ab63fa",
          "size": {
           "bdata": "MFcFAA==",
           "dtype": "i4"
          },
          "sizemode": "area",
          "sizeref": 3750,
          "symbol": "circle"
         },
         "mode": "markers",
         "name": "Ludwig-Maximilians-Universität München (LMU)",
         "orientation": "h",
         "showlegend": true,
         "type": "scatter",
         "x": {
          "bdata": "MFcFAA==",
          "dtype": "i4"
         },
         "xaxis": "x",
         "y": [
          "Competitive Strategy and Organization Design"
         ],
         "yaxis": "y"
        },
        {
         "customdata": [
          [
           "Intermediate",
           4.8
          ]
         ],
         "hovertemplate": "<b>%{hovertext}</b><br><br>Course Organization=deeplearning.ai<br>Number of Enrollments=%{marker.size}<br>Course Title=%{y}<br>Course Difficulty=%{customdata[0]}<br>Course Rating=%{customdata[1]}<extra></extra>",
         "hovertext": [
          "Deep Learning"
         ],
         "legendgroup": "deeplearning.ai",
         "marker": {
          "color": "#FFA15A",
          "size": {
           "bdata": "UIcKAA==",
           "dtype": "i4"
          },
          "sizemode": "area",
          "sizeref": 3750,
          "symbol": "circle"
         },
         "mode": "markers",
         "name": "deeplearning.ai",
         "orientation": "h",
         "showlegend": true,
         "type": "scatter",
         "x": {
          "bdata": "UIcKAA==",
          "dtype": "i4"
         },
         "xaxis": "x",
         "y": [
          "Deep Learning"
         ],
         "yaxis": "y"
        },
        {
         "customdata": [
          [
           "Beginner",
           4.7
          ]
         ],
         "hovertemplate": "<b>%{hovertext}</b><br><br>Course Organization=Georgia Institute of Technology<br>Number of Enrollments=%{marker.size}<br>Course Title=%{y}<br>Course Difficulty=%{customdata[0]}<br>Course Rating=%{customdata[1]}<extra></extra>",
         "hovertext": [
          "Improve Your English Communication Skills"
         ],
         "legendgroup": "Georgia Institute of Technology",
         "marker": {
          "color": "#19d3f3",
          "size": {
           "bdata": "0E4JAA==",
           "dtype": "i4"
          },
          "sizemode": "area",
          "sizeref": 3750,
          "symbol": "circle"
         },
         "mode": "markers",
         "name": "Georgia Institute of Technology",
         "orientation": "h",
         "showlegend": true,
         "type": "scatter",
         "x": {
          "bdata": "0E4JAA==",
          "dtype": "i4"
         },
         "xaxis": "x",
         "y": [
          "Improve Your English Communication Skills"
         ],
         "yaxis": "y"
        },
        {
         "customdata": [
          [
           "Beginner",
           4.8
          ]
         ],
         "hovertemplate": "<b>%{hovertext}</b><br><br>Course Organization=University of Michigan<br>Number of Enrollments=%{marker.size}<br>Course Title=%{y}<br>Course Difficulty=%{customdata[0]}<br>Course Rating=%{customdata[1]}<extra></extra>",
         "hovertext": [
          "Python for Everybody"
         ],
         "legendgroup": "University of Michigan",
         "marker": {
          "color": "#FF6692",
          "size": {
           "bdata": "YOMWAA==",
           "dtype": "i4"
          },
          "sizemode": "area",
          "sizeref": 3750,
          "symbol": "circle"
         },
         "mode": "markers",
         "name": "University of Michigan",
         "orientation": "h",
         "showlegend": true,
         "type": "scatter",
         "x": {
          "bdata": "YOMWAA==",
          "dtype": "i4"
         },
         "xaxis": "x",
         "y": [
          "Python for Everybody"
         ],
         "yaxis": "y"
        },
        {
         "customdata": [
          [
           "Beginner",
           4.8
          ]
         ],
         "hovertemplate": "<b>%{hovertext}</b><br><br>Course Organization=Berklee College of Music<br>Number of Enrollments=%{marker.size}<br>Course Title=%{y}<br>Course Difficulty=%{customdata[0]}<br>Course Rating=%{customdata[1]}<extra></extra>",
         "hovertext": [
          "The Singer Songwriter"
         ],
         "legendgroup": "Berklee College of Music",
         "marker": {
          "color": "#B6E880",
          "size": {
           "bdata": "AOIEAA==",
           "dtype": "i4"
          },
          "sizemode": "area",
          "sizeref": 3750,
          "symbol": "circle"
         },
         "mode": "markers",
         "name": "Berklee College of Music",
         "orientation": "h",
         "showlegend": true,
         "type": "scatter",
         "x": {
          "bdata": "AOIEAA==",
          "dtype": "i4"
         },
         "xaxis": "x",
         "y": [
          "The Singer Songwriter"
         ],
         "yaxis": "y"
        }
       ],
       "layout": {
        "legend": {
         "itemsizing": "constant",
         "title": {
          "text": "Course Organization"
         },
         "tracegroupgap": 0
        },
        "template": {
         "data": {
          "bar": [
           {
            "error_x": {
             "color": "#2a3f5f"
            },
            "error_y": {
             "color": "#2a3f5f"
            },
            "marker": {
             "line": {
              "color": "#E5ECF6",
              "width": 0.5
             },
             "pattern": {
              "fillmode": "overlay",
              "size": 10,
              "solidity": 0.2
             }
            },
            "type": "bar"
           }
          ],
          "barpolar": [
           {
            "marker": {
             "line": {
              "color": "#E5ECF6",
              "width": 0.5
             },
             "pattern": {
              "fillmode": "overlay",
              "size": 10,
              "solidity": 0.2
             }
            },
            "type": "barpolar"
           }
          ],
          "carpet": [
           {
            "aaxis": {
             "endlinecolor": "#2a3f5f",
             "gridcolor": "white",
             "linecolor": "white",
             "minorgridcolor": "white",
             "startlinecolor": "#2a3f5f"
            },
            "baxis": {
             "endlinecolor": "#2a3f5f",
             "gridcolor": "white",
             "linecolor": "white",
             "minorgridcolor": "white",
             "startlinecolor": "#2a3f5f"
            },
            "type": "carpet"
           }
          ],
          "choropleth": [
           {
            "colorbar": {
             "outlinewidth": 0,
             "ticks": ""
            },
            "type": "choropleth"
           }
          ],
          "contour": [
           {
            "colorbar": {
             "outlinewidth": 0,
             "ticks": ""
            },
            "colorscale": [
             [
              0,
              "#0d0887"
             ],
             [
              0.1111111111111111,
              "#46039f"
             ],
             [
              0.2222222222222222,
              "#7201a8"
             ],
             [
              0.3333333333333333,
              "#9c179e"
             ],
             [
              0.4444444444444444,
              "#bd3786"
             ],
             [
              0.5555555555555556,
              "#d8576b"
             ],
             [
              0.6666666666666666,
              "#ed7953"
             ],
             [
              0.7777777777777778,
              "#fb9f3a"
             ],
             [
              0.8888888888888888,
              "#fdca26"
             ],
             [
              1,
              "#f0f921"
             ]
            ],
            "type": "contour"
           }
          ],
          "contourcarpet": [
           {
            "colorbar": {
             "outlinewidth": 0,
             "ticks": ""
            },
            "type": "contourcarpet"
           }
          ],
          "heatmap": [
           {
            "colorbar": {
             "outlinewidth": 0,
             "ticks": ""
            },
            "colorscale": [
             [
              0,
              "#0d0887"
             ],
             [
              0.1111111111111111,
              "#46039f"
             ],
             [
              0.2222222222222222,
              "#7201a8"
             ],
             [
              0.3333333333333333,
              "#9c179e"
             ],
             [
              0.4444444444444444,
              "#bd3786"
             ],
             [
              0.5555555555555556,
              "#d8576b"
             ],
             [
              0.6666666666666666,
              "#ed7953"
             ],
             [
              0.7777777777777778,
              "#fb9f3a"
             ],
             [
              0.8888888888888888,
              "#fdca26"
             ],
             [
              1,
              "#f0f921"
             ]
            ],
            "type": "heatmap"
           }
          ],
          "histogram": [
           {
            "marker": {
             "pattern": {
              "fillmode": "overlay",
              "size": 10,
              "solidity": 0.2
             }
            },
            "type": "histogram"
           }
          ],
          "histogram2d": [
           {
            "colorbar": {
             "outlinewidth": 0,
             "ticks": ""
            },
            "colorscale": [
             [
              0,
              "#0d0887"
             ],
             [
              0.1111111111111111,
              "#46039f"
             ],
             [
              0.2222222222222222,
              "#7201a8"
             ],
             [
              0.3333333333333333,
              "#9c179e"
             ],
             [
              0.4444444444444444,
              "#bd3786"
             ],
             [
              0.5555555555555556,
              "#d8576b"
             ],
             [
              0.6666666666666666,
              "#ed7953"
             ],
             [
              0.7777777777777778,
              "#fb9f3a"
             ],
             [
              0.8888888888888888,
              "#fdca26"
             ],
             [
              1,
              "#f0f921"
             ]
            ],
            "type": "histogram2d"
           }
          ],
          "histogram2dcontour": [
           {
            "colorbar": {
             "outlinewidth": 0,
             "ticks": ""
            },
            "colorscale": [
             [
              0,
              "#0d0887"
             ],
             [
              0.1111111111111111,
              "#46039f"
             ],
             [
              0.2222222222222222,
              "#7201a8"
             ],
             [
              0.3333333333333333,
              "#9c179e"
             ],
             [
              0.4444444444444444,
              "#bd3786"
             ],
             [
              0.5555555555555556,
              "#d8576b"
             ],
             [
              0.6666666666666666,
              "#ed7953"
             ],
             [
              0.7777777777777778,
              "#fb9f3a"
             ],
             [
              0.8888888888888888,
              "#fdca26"
             ],
             [
              1,
              "#f0f921"
             ]
            ],
            "type": "histogram2dcontour"
           }
          ],
          "mesh3d": [
           {
            "colorbar": {
             "outlinewidth": 0,
             "ticks": ""
            },
            "type": "mesh3d"
           }
          ],
          "parcoords": [
           {
            "line": {
             "colorbar": {
              "outlinewidth": 0,
              "ticks": ""
             }
            },
            "type": "parcoords"
           }
          ],
          "pie": [
           {
            "automargin": true,
            "type": "pie"
           }
          ],
          "scatter": [
           {
            "fillpattern": {
             "fillmode": "overlay",
             "size": 10,
             "solidity": 0.2
            },
            "type": "scatter"
           }
          ],
          "scatter3d": [
           {
            "line": {
             "colorbar": {
              "outlinewidth": 0,
              "ticks": ""
             }
            },
            "marker": {
             "colorbar": {
              "outlinewidth": 0,
              "ticks": ""
             }
            },
            "type": "scatter3d"
           }
          ],
          "scattercarpet": [
           {
            "marker": {
             "colorbar": {
              "outlinewidth": 0,
              "ticks": ""
             }
            },
            "type": "scattercarpet"
           }
          ],
          "scattergeo": [
           {
            "marker": {
             "colorbar": {
              "outlinewidth": 0,
              "ticks": ""
             }
            },
            "type": "scattergeo"
           }
          ],
          "scattergl": [
           {
            "marker": {
             "colorbar": {
              "outlinewidth": 0,
              "ticks": ""
             }
            },
            "type": "scattergl"
           }
          ],
          "scattermap": [
           {
            "marker": {
             "colorbar": {
              "outlinewidth": 0,
              "ticks": ""
             }
            },
            "type": "scattermap"
           }
          ],
          "scattermapbox": [
           {
            "marker": {
             "colorbar": {
              "outlinewidth": 0,
              "ticks": ""
             }
            },
            "type": "scattermapbox"
           }
          ],
          "scatterpolar": [
           {
            "marker": {
             "colorbar": {
              "outlinewidth": 0,
              "ticks": ""
             }
            },
            "type": "scatterpolar"
           }
          ],
          "scatterpolargl": [
           {
            "marker": {
             "colorbar": {
              "outlinewidth": 0,
              "ticks": ""
             }
            },
            "type": "scatterpolargl"
           }
          ],
          "scatterternary": [
           {
            "marker": {
             "colorbar": {
              "outlinewidth": 0,
              "ticks": ""
             }
            },
            "type": "scatterternary"
           }
          ],
          "surface": [
           {
            "colorbar": {
             "outlinewidth": 0,
             "ticks": ""
            },
            "colorscale": [
             [
              0,
              "#0d0887"
             ],
             [
              0.1111111111111111,
              "#46039f"
             ],
             [
              0.2222222222222222,
              "#7201a8"
             ],
             [
              0.3333333333333333,
              "#9c179e"
             ],
             [
              0.4444444444444444,
              "#bd3786"
             ],
             [
              0.5555555555555556,
              "#d8576b"
             ],
             [
              0.6666666666666666,
              "#ed7953"
             ],
             [
              0.7777777777777778,
              "#fb9f3a"
             ],
             [
              0.8888888888888888,
              "#fdca26"
             ],
             [
              1,
              "#f0f921"
             ]
            ],
            "type": "surface"
           }
          ],
          "table": [
           {
            "cells": {
             "fill": {
              "color": "#EBF0F8"
             },
             "line": {
              "color": "white"
             }
            },
            "header": {
             "fill": {
              "color": "#C8D4E3"
             },
             "line": {
              "color": "white"
             }
            },
            "type": "table"
           }
          ]
         },
         "layout": {
          "annotationdefaults": {
           "arrowcolor": "#2a3f5f",
           "arrowhead": 0,
           "arrowwidth": 1
          },
          "autotypenumbers": "strict",
          "coloraxis": {
           "colorbar": {
            "outlinewidth": 0,
            "ticks": ""
           }
          },
          "colorscale": {
           "diverging": [
            [
             0,
             "#8e0152"
            ],
            [
             0.1,
             "#c51b7d"
            ],
            [
             0.2,
             "#de77ae"
            ],
            [
             0.3,
             "#f1b6da"
            ],
            [
             0.4,
             "#fde0ef"
            ],
            [
             0.5,
             "#f7f7f7"
            ],
            [
             0.6,
             "#e6f5d0"
            ],
            [
             0.7,
             "#b8e186"
            ],
            [
             0.8,
             "#7fbc41"
            ],
            [
             0.9,
             "#4d9221"
            ],
            [
             1,
             "#276419"
            ]
           ],
           "sequential": [
            [
             0,
             "#0d0887"
            ],
            [
             0.1111111111111111,
             "#46039f"
            ],
            [
             0.2222222222222222,
             "#7201a8"
            ],
            [
             0.3333333333333333,
             "#9c179e"
            ],
            [
             0.4444444444444444,
             "#bd3786"
            ],
            [
             0.5555555555555556,
             "#d8576b"
            ],
            [
             0.6666666666666666,
             "#ed7953"
            ],
            [
             0.7777777777777778,
             "#fb9f3a"
            ],
            [
             0.8888888888888888,
             "#fdca26"
            ],
            [
             1,
             "#f0f921"
            ]
           ],
           "sequentialminus": [
            [
             0,
             "#0d0887"
            ],
            [
             0.1111111111111111,
             "#46039f"
            ],
            [
             0.2222222222222222,
             "#7201a8"
            ],
            [
             0.3333333333333333,
             "#9c179e"
            ],
            [
             0.4444444444444444,
             "#bd3786"
            ],
            [
             0.5555555555555556,
             "#d8576b"
            ],
            [
             0.6666666666666666,
             "#ed7953"
            ],
            [
             0.7777777777777778,
             "#fb9f3a"
            ],
            [
             0.8888888888888888,
             "#fdca26"
            ],
            [
             1,
             "#f0f921"
            ]
           ]
          },
          "colorway": [
           "#636efa",
           "#EF553B",
           "#00cc96",
           "#ab63fa",
           "#FFA15A",
           "#19d3f3",
           "#FF6692",
           "#B6E880",
           "#FF97FF",
           "#FECB52"
          ],
          "font": {
           "color": "#2a3f5f"
          },
          "geo": {
           "bgcolor": "white",
           "lakecolor": "white",
           "landcolor": "#E5ECF6",
           "showlakes": true,
           "showland": true,
           "subunitcolor": "white"
          },
          "hoverlabel": {
           "align": "left"
          },
          "hovermode": "closest",
          "mapbox": {
           "style": "light"
          },
          "paper_bgcolor": "white",
          "plot_bgcolor": "#E5ECF6",
          "polar": {
           "angularaxis": {
            "gridcolor": "white",
            "linecolor": "white",
            "ticks": ""
           },
           "bgcolor": "#E5ECF6",
           "radialaxis": {
            "gridcolor": "white",
            "linecolor": "white",
            "ticks": ""
           }
          },
          "scene": {
           "xaxis": {
            "backgroundcolor": "#E5ECF6",
            "gridcolor": "white",
            "gridwidth": 2,
            "linecolor": "white",
            "showbackground": true,
            "ticks": "",
            "zerolinecolor": "white"
           },
           "yaxis": {
            "backgroundcolor": "#E5ECF6",
            "gridcolor": "white",
            "gridwidth": 2,
            "linecolor": "white",
            "showbackground": true,
            "ticks": "",
            "zerolinecolor": "white"
           },
           "zaxis": {
            "backgroundcolor": "#E5ECF6",
            "gridcolor": "white",
            "gridwidth": 2,
            "linecolor": "white",
            "showbackground": true,
            "ticks": "",
            "zerolinecolor": "white"
           }
          },
          "shapedefaults": {
           "line": {
            "color": "#2a3f5f"
           }
          },
          "ternary": {
           "aaxis": {
            "gridcolor": "white",
            "linecolor": "white",
            "ticks": ""
           },
           "baxis": {
            "gridcolor": "white",
            "linecolor": "white",
            "ticks": ""
           },
           "bgcolor": "#E5ECF6",
           "caxis": {
            "gridcolor": "white",
            "linecolor": "white",
            "ticks": ""
           }
          },
          "title": {
           "x": 0.05
          },
          "xaxis": {
           "automargin": true,
           "gridcolor": "white",
           "linecolor": "white",
           "ticks": "",
           "title": {
            "standoff": 15
           },
           "zerolinecolor": "white",
           "zerolinewidth": 2
          },
          "yaxis": {
           "automargin": true,
           "gridcolor": "white",
           "linecolor": "white",
           "ticks": "",
           "title": {
            "standoff": 15
           },
           "zerolinecolor": "white",
           "zerolinewidth": 2
          }
         }
        },
        "title": {
         "text": "Top 10 most popular specialization cources with rating above the average"
        },
        "xaxis": {
         "anchor": "y",
         "domain": [
          0,
          1
         ],
         "title": {
          "text": "Number of Enrollments"
         }
        },
        "yaxis": {
         "anchor": "x",
         "domain": [
          0,
          1
         ],
         "title": {
          "text": "Course Title"
         }
        }
       }
      }
     },
     "metadata": {},
     "output_type": "display_data"
    }
   ],
   "source": [
    "avg_course_rating = df['course_rating'].mean()\n",
    "\n",
    "top_spec_courses = df[(df['course_rating'] > (avg_course_rating)) & (df['course_Certificate_type'] == 'SPECIALIZATION')]\n",
    "\n",
    "\n",
    "spec_course_popularity = top_spec_courses.groupby('course_title')['course_students_enrolled'].sum().reset_index()\n",
    "top_10_spec_courses = spec_course_popularity.sort_values('course_students_enrolled', ascending=False).head(10)\n",
    "\n",
    "filtered_top_courses = top_spec_courses[top_spec_courses['course_title'].isin(top_10_spec_courses['course_title'])]\n",
    "\n",
    "\n",
    "fig = px.scatter(\n",
    "    filtered_top_courses, \n",
    "    x='course_students_enrolled', \n",
    "    y='course_title', \n",
    "    color='course_organization',\n",
    "    color_continuous_scale='Viridis', \n",
    "    size='course_students_enrolled',\n",
    "    hover_name='course_title', \n",
    "    hover_data={'course_difficulty': True, 'course_rating': True, 'course_students_enrolled': True},\n",
    "    title=\"Top 10 most popular specialization cources with rating above the average\",\n",
    "    labels={\n",
    "        \"course_organization\": \"Course Organization\", \n",
    "        \"course_title\": \"Course Title\", \n",
    "        \"course_rating\": \"Course Rating\", \n",
    "        \"course_students_enrolled\": \"Number of Enrollments\", \n",
    "        \"course_difficulty\": \"Course Difficulty\"\n",
    "    },\n",
    "    size_max=20 \n",
    ")\n",
    "\n",
    "fig.show()"
   ]
  },
  {
   "cell_type": "markdown",
   "metadata": {},
   "source": [
    "\n",
    "The most popular specialization course is **\"Python for Everybody\" organized by University of Michigan** with rating 4.8 rating.  \n",
    "\n",
    "Second most popular is **\"Deep Learning\" organized by deeplearning.ai** with rating 4.8.\n",
    "\n",
    "Third is **\"Improve Your English Communication Skills\" organized by Georgia Institute of Technology** with rating 4.7 rating."
   ]
  },
  {
   "cell_type": "markdown",
   "metadata": {},
   "source": [
    "#### **2.7 Top 3 most popular professional certificate cources with rating above average**\n",
    "\n",
    "Average of all courses was counted to represent the quality of the course higher than average and filtered by professional certificate. \n",
    "\n",
    "Plotly was used to visualize the course dificulty by their enrollments interactively. \n",
    "\n",
    "\n",
    "###### **Please know, that exact counts and zoom is only available in Jupiter notebook*"
   ]
  },
  {
   "cell_type": "code",
   "execution_count": 60,
   "metadata": {},
   "outputs": [
    {
     "data": {
      "application/vnd.plotly.v1+json": {
       "config": {
        "plotlyServerURL": "https://plot.ly"
       },
       "data": [
        {
         "customdata": [
          [
           "Beginner",
           4.9
          ]
         ],
         "hovertemplate": "<b>%{hovertext}</b><br><br>Course Organization=Arizona State University<br>Number of Enrollments=%{marker.size}<br>Course Title=%{y}<br>Course Difficulty=%{customdata[0]}<br>Course Rating=%{customdata[1]}<extra></extra>",
         "hovertext": [
          "Arizona State University TESOL"
         ],
         "legendgroup": "Arizona State University",
         "marker": {
          "color": "#636efa",
          "size": {
           "bdata": "8EkCAA==",
           "dtype": "i4"
          },
          "sizemode": "area",
          "sizeref": 925,
          "symbol": "circle"
         },
         "mode": "markers",
         "name": "Arizona State University",
         "orientation": "h",
         "showlegend": true,
         "type": "scatter",
         "x": {
          "bdata": "8EkCAA==",
          "dtype": "i4"
         },
         "xaxis": "x",
         "y": [
          "Arizona State University TESOL"
         ],
         "yaxis": "y"
        },
        {
         "customdata": [
          [
           "Intermediate",
           4.7
          ]
         ],
         "hovertemplate": "<b>%{hovertext}</b><br><br>Course Organization=Google Cloud<br>Number of Enrollments=%{marker.size}<br>Course Title=%{y}<br>Course Difficulty=%{customdata[0]}<br>Course Rating=%{customdata[1]}<extra></extra>",
         "hovertext": [
          "Cloud Engineering with Google Cloud"
         ],
         "legendgroup": "Google Cloud",
         "marker": {
          "color": "#EF553B",
          "size": {
           "bdata": "8LoEAA==",
           "dtype": "i4"
          },
          "sizemode": "area",
          "sizeref": 925,
          "symbol": "circle"
         },
         "mode": "markers",
         "name": "Google Cloud",
         "orientation": "h",
         "showlegend": true,
         "type": "scatter",
         "x": {
          "bdata": "8LoEAA==",
          "dtype": "i4"
         },
         "xaxis": "x",
         "y": [
          "Cloud Engineering with Google Cloud"
         ],
         "yaxis": "y"
        },
        {
         "customdata": [
          [
           "Beginner",
           4.7
          ],
          [
           "Beginner",
           4.8
          ]
         ],
         "hovertemplate": "<b>%{hovertext}</b><br><br>Course Organization=Google<br>Number of Enrollments=%{marker.size}<br>Course Title=%{y}<br>Course Difficulty=%{customdata[0]}<br>Course Rating=%{customdata[1]}<extra></extra>",
         "hovertext": [
          "Google IT Automation with Python",
          "Google IT Support"
         ],
         "legendgroup": "Google",
         "marker": {
          "color": "#00cc96",
          "size": {
           "bdata": "SGsBADBXBQA=",
           "dtype": "i4"
          },
          "sizemode": "area",
          "sizeref": 925,
          "symbol": "circle"
         },
         "mode": "markers",
         "name": "Google",
         "orientation": "h",
         "showlegend": true,
         "type": "scatter",
         "x": {
          "bdata": "SGsBADBXBQA=",
          "dtype": "i4"
         },
         "xaxis": "x",
         "y": [
          "Google IT Automation with Python",
          "Google IT Support"
         ],
         "yaxis": "y"
        },
        {
         "customdata": [
          [
           "Beginner",
           4.8
          ]
         ],
         "hovertemplate": "<b>%{hovertext}</b><br><br>Course Organization=SAS<br>Number of Enrollments=%{marker.size}<br>Course Title=%{y}<br>Course Difficulty=%{customdata[0]}<br>Course Rating=%{customdata[1]}<extra></extra>",
         "hovertext": [
          "SAS Programmer"
         ],
         "legendgroup": "SAS",
         "marker": {
          "color": "#ab63fa",
          "size": {
           "bdata": "UKUFAA==",
           "dtype": "i4"
          },
          "sizemode": "area",
          "sizeref": 925,
          "symbol": "circle"
         },
         "mode": "markers",
         "name": "SAS",
         "orientation": "h",
         "showlegend": true,
         "type": "scatter",
         "x": {
          "bdata": "UKUFAA==",
          "dtype": "i4"
         },
         "xaxis": "x",
         "y": [
          "SAS Programmer"
         ],
         "yaxis": "y"
        },
        {
         "customdata": [
          [
           "Beginner",
           4.9
          ]
         ],
         "hovertemplate": "<b>%{hovertext}</b><br><br>Course Organization=Crece con Google<br>Number of Enrollments=%{marker.size}<br>Course Title=%{y}<br>Course Difficulty=%{customdata[0]}<br>Course Rating=%{customdata[1]}<extra></extra>",
         "hovertext": [
          "Soporte de Tecnologías de la Información de Google"
         ],
         "legendgroup": "Crece con Google",
         "marker": {
          "color": "#FFA15A",
          "size": {
           "bdata": "YCIAAA==",
           "dtype": "i4"
          },
          "sizemode": "area",
          "sizeref": 925,
          "symbol": "circle"
         },
         "mode": "markers",
         "name": "Crece con Google",
         "orientation": "h",
         "showlegend": true,
         "type": "scatter",
         "x": {
          "bdata": "YCIAAA==",
          "dtype": "i4"
         },
         "xaxis": "x",
         "y": [
          "Soporte de Tecnologías de la Información de Google"
         ],
         "yaxis": "y"
        }
       ],
       "layout": {
        "legend": {
         "itemsizing": "constant",
         "title": {
          "text": "Course Organization"
         },
         "tracegroupgap": 0
        },
        "template": {
         "data": {
          "bar": [
           {
            "error_x": {
             "color": "#2a3f5f"
            },
            "error_y": {
             "color": "#2a3f5f"
            },
            "marker": {
             "line": {
              "color": "#E5ECF6",
              "width": 0.5
             },
             "pattern": {
              "fillmode": "overlay",
              "size": 10,
              "solidity": 0.2
             }
            },
            "type": "bar"
           }
          ],
          "barpolar": [
           {
            "marker": {
             "line": {
              "color": "#E5ECF6",
              "width": 0.5
             },
             "pattern": {
              "fillmode": "overlay",
              "size": 10,
              "solidity": 0.2
             }
            },
            "type": "barpolar"
           }
          ],
          "carpet": [
           {
            "aaxis": {
             "endlinecolor": "#2a3f5f",
             "gridcolor": "white",
             "linecolor": "white",
             "minorgridcolor": "white",
             "startlinecolor": "#2a3f5f"
            },
            "baxis": {
             "endlinecolor": "#2a3f5f",
             "gridcolor": "white",
             "linecolor": "white",
             "minorgridcolor": "white",
             "startlinecolor": "#2a3f5f"
            },
            "type": "carpet"
           }
          ],
          "choropleth": [
           {
            "colorbar": {
             "outlinewidth": 0,
             "ticks": ""
            },
            "type": "choropleth"
           }
          ],
          "contour": [
           {
            "colorbar": {
             "outlinewidth": 0,
             "ticks": ""
            },
            "colorscale": [
             [
              0,
              "#0d0887"
             ],
             [
              0.1111111111111111,
              "#46039f"
             ],
             [
              0.2222222222222222,
              "#7201a8"
             ],
             [
              0.3333333333333333,
              "#9c179e"
             ],
             [
              0.4444444444444444,
              "#bd3786"
             ],
             [
              0.5555555555555556,
              "#d8576b"
             ],
             [
              0.6666666666666666,
              "#ed7953"
             ],
             [
              0.7777777777777778,
              "#fb9f3a"
             ],
             [
              0.8888888888888888,
              "#fdca26"
             ],
             [
              1,
              "#f0f921"
             ]
            ],
            "type": "contour"
           }
          ],
          "contourcarpet": [
           {
            "colorbar": {
             "outlinewidth": 0,
             "ticks": ""
            },
            "type": "contourcarpet"
           }
          ],
          "heatmap": [
           {
            "colorbar": {
             "outlinewidth": 0,
             "ticks": ""
            },
            "colorscale": [
             [
              0,
              "#0d0887"
             ],
             [
              0.1111111111111111,
              "#46039f"
             ],
             [
              0.2222222222222222,
              "#7201a8"
             ],
             [
              0.3333333333333333,
              "#9c179e"
             ],
             [
              0.4444444444444444,
              "#bd3786"
             ],
             [
              0.5555555555555556,
              "#d8576b"
             ],
             [
              0.6666666666666666,
              "#ed7953"
             ],
             [
              0.7777777777777778,
              "#fb9f3a"
             ],
             [
              0.8888888888888888,
              "#fdca26"
             ],
             [
              1,
              "#f0f921"
             ]
            ],
            "type": "heatmap"
           }
          ],
          "histogram": [
           {
            "marker": {
             "pattern": {
              "fillmode": "overlay",
              "size": 10,
              "solidity": 0.2
             }
            },
            "type": "histogram"
           }
          ],
          "histogram2d": [
           {
            "colorbar": {
             "outlinewidth": 0,
             "ticks": ""
            },
            "colorscale": [
             [
              0,
              "#0d0887"
             ],
             [
              0.1111111111111111,
              "#46039f"
             ],
             [
              0.2222222222222222,
              "#7201a8"
             ],
             [
              0.3333333333333333,
              "#9c179e"
             ],
             [
              0.4444444444444444,
              "#bd3786"
             ],
             [
              0.5555555555555556,
              "#d8576b"
             ],
             [
              0.6666666666666666,
              "#ed7953"
             ],
             [
              0.7777777777777778,
              "#fb9f3a"
             ],
             [
              0.8888888888888888,
              "#fdca26"
             ],
             [
              1,
              "#f0f921"
             ]
            ],
            "type": "histogram2d"
           }
          ],
          "histogram2dcontour": [
           {
            "colorbar": {
             "outlinewidth": 0,
             "ticks": ""
            },
            "colorscale": [
             [
              0,
              "#0d0887"
             ],
             [
              0.1111111111111111,
              "#46039f"
             ],
             [
              0.2222222222222222,
              "#7201a8"
             ],
             [
              0.3333333333333333,
              "#9c179e"
             ],
             [
              0.4444444444444444,
              "#bd3786"
             ],
             [
              0.5555555555555556,
              "#d8576b"
             ],
             [
              0.6666666666666666,
              "#ed7953"
             ],
             [
              0.7777777777777778,
              "#fb9f3a"
             ],
             [
              0.8888888888888888,
              "#fdca26"
             ],
             [
              1,
              "#f0f921"
             ]
            ],
            "type": "histogram2dcontour"
           }
          ],
          "mesh3d": [
           {
            "colorbar": {
             "outlinewidth": 0,
             "ticks": ""
            },
            "type": "mesh3d"
           }
          ],
          "parcoords": [
           {
            "line": {
             "colorbar": {
              "outlinewidth": 0,
              "ticks": ""
             }
            },
            "type": "parcoords"
           }
          ],
          "pie": [
           {
            "automargin": true,
            "type": "pie"
           }
          ],
          "scatter": [
           {
            "fillpattern": {
             "fillmode": "overlay",
             "size": 10,
             "solidity": 0.2
            },
            "type": "scatter"
           }
          ],
          "scatter3d": [
           {
            "line": {
             "colorbar": {
              "outlinewidth": 0,
              "ticks": ""
             }
            },
            "marker": {
             "colorbar": {
              "outlinewidth": 0,
              "ticks": ""
             }
            },
            "type": "scatter3d"
           }
          ],
          "scattercarpet": [
           {
            "marker": {
             "colorbar": {
              "outlinewidth": 0,
              "ticks": ""
             }
            },
            "type": "scattercarpet"
           }
          ],
          "scattergeo": [
           {
            "marker": {
             "colorbar": {
              "outlinewidth": 0,
              "ticks": ""
             }
            },
            "type": "scattergeo"
           }
          ],
          "scattergl": [
           {
            "marker": {
             "colorbar": {
              "outlinewidth": 0,
              "ticks": ""
             }
            },
            "type": "scattergl"
           }
          ],
          "scattermap": [
           {
            "marker": {
             "colorbar": {
              "outlinewidth": 0,
              "ticks": ""
             }
            },
            "type": "scattermap"
           }
          ],
          "scattermapbox": [
           {
            "marker": {
             "colorbar": {
              "outlinewidth": 0,
              "ticks": ""
             }
            },
            "type": "scattermapbox"
           }
          ],
          "scatterpolar": [
           {
            "marker": {
             "colorbar": {
              "outlinewidth": 0,
              "ticks": ""
             }
            },
            "type": "scatterpolar"
           }
          ],
          "scatterpolargl": [
           {
            "marker": {
             "colorbar": {
              "outlinewidth": 0,
              "ticks": ""
             }
            },
            "type": "scatterpolargl"
           }
          ],
          "scatterternary": [
           {
            "marker": {
             "colorbar": {
              "outlinewidth": 0,
              "ticks": ""
             }
            },
            "type": "scatterternary"
           }
          ],
          "surface": [
           {
            "colorbar": {
             "outlinewidth": 0,
             "ticks": ""
            },
            "colorscale": [
             [
              0,
              "#0d0887"
             ],
             [
              0.1111111111111111,
              "#46039f"
             ],
             [
              0.2222222222222222,
              "#7201a8"
             ],
             [
              0.3333333333333333,
              "#9c179e"
             ],
             [
              0.4444444444444444,
              "#bd3786"
             ],
             [
              0.5555555555555556,
              "#d8576b"
             ],
             [
              0.6666666666666666,
              "#ed7953"
             ],
             [
              0.7777777777777778,
              "#fb9f3a"
             ],
             [
              0.8888888888888888,
              "#fdca26"
             ],
             [
              1,
              "#f0f921"
             ]
            ],
            "type": "surface"
           }
          ],
          "table": [
           {
            "cells": {
             "fill": {
              "color": "#EBF0F8"
             },
             "line": {
              "color": "white"
             }
            },
            "header": {
             "fill": {
              "color": "#C8D4E3"
             },
             "line": {
              "color": "white"
             }
            },
            "type": "table"
           }
          ]
         },
         "layout": {
          "annotationdefaults": {
           "arrowcolor": "#2a3f5f",
           "arrowhead": 0,
           "arrowwidth": 1
          },
          "autotypenumbers": "strict",
          "coloraxis": {
           "colorbar": {
            "outlinewidth": 0,
            "ticks": ""
           }
          },
          "colorscale": {
           "diverging": [
            [
             0,
             "#8e0152"
            ],
            [
             0.1,
             "#c51b7d"
            ],
            [
             0.2,
             "#de77ae"
            ],
            [
             0.3,
             "#f1b6da"
            ],
            [
             0.4,
             "#fde0ef"
            ],
            [
             0.5,
             "#f7f7f7"
            ],
            [
             0.6,
             "#e6f5d0"
            ],
            [
             0.7,
             "#b8e186"
            ],
            [
             0.8,
             "#7fbc41"
            ],
            [
             0.9,
             "#4d9221"
            ],
            [
             1,
             "#276419"
            ]
           ],
           "sequential": [
            [
             0,
             "#0d0887"
            ],
            [
             0.1111111111111111,
             "#46039f"
            ],
            [
             0.2222222222222222,
             "#7201a8"
            ],
            [
             0.3333333333333333,
             "#9c179e"
            ],
            [
             0.4444444444444444,
             "#bd3786"
            ],
            [
             0.5555555555555556,
             "#d8576b"
            ],
            [
             0.6666666666666666,
             "#ed7953"
            ],
            [
             0.7777777777777778,
             "#fb9f3a"
            ],
            [
             0.8888888888888888,
             "#fdca26"
            ],
            [
             1,
             "#f0f921"
            ]
           ],
           "sequentialminus": [
            [
             0,
             "#0d0887"
            ],
            [
             0.1111111111111111,
             "#46039f"
            ],
            [
             0.2222222222222222,
             "#7201a8"
            ],
            [
             0.3333333333333333,
             "#9c179e"
            ],
            [
             0.4444444444444444,
             "#bd3786"
            ],
            [
             0.5555555555555556,
             "#d8576b"
            ],
            [
             0.6666666666666666,
             "#ed7953"
            ],
            [
             0.7777777777777778,
             "#fb9f3a"
            ],
            [
             0.8888888888888888,
             "#fdca26"
            ],
            [
             1,
             "#f0f921"
            ]
           ]
          },
          "colorway": [
           "#636efa",
           "#EF553B",
           "#00cc96",
           "#ab63fa",
           "#FFA15A",
           "#19d3f3",
           "#FF6692",
           "#B6E880",
           "#FF97FF",
           "#FECB52"
          ],
          "font": {
           "color": "#2a3f5f"
          },
          "geo": {
           "bgcolor": "white",
           "lakecolor": "white",
           "landcolor": "#E5ECF6",
           "showlakes": true,
           "showland": true,
           "subunitcolor": "white"
          },
          "hoverlabel": {
           "align": "left"
          },
          "hovermode": "closest",
          "mapbox": {
           "style": "light"
          },
          "paper_bgcolor": "white",
          "plot_bgcolor": "#E5ECF6",
          "polar": {
           "angularaxis": {
            "gridcolor": "white",
            "linecolor": "white",
            "ticks": ""
           },
           "bgcolor": "#E5ECF6",
           "radialaxis": {
            "gridcolor": "white",
            "linecolor": "white",
            "ticks": ""
           }
          },
          "scene": {
           "xaxis": {
            "backgroundcolor": "#E5ECF6",
            "gridcolor": "white",
            "gridwidth": 2,
            "linecolor": "white",
            "showbackground": true,
            "ticks": "",
            "zerolinecolor": "white"
           },
           "yaxis": {
            "backgroundcolor": "#E5ECF6",
            "gridcolor": "white",
            "gridwidth": 2,
            "linecolor": "white",
            "showbackground": true,
            "ticks": "",
            "zerolinecolor": "white"
           },
           "zaxis": {
            "backgroundcolor": "#E5ECF6",
            "gridcolor": "white",
            "gridwidth": 2,
            "linecolor": "white",
            "showbackground": true,
            "ticks": "",
            "zerolinecolor": "white"
           }
          },
          "shapedefaults": {
           "line": {
            "color": "#2a3f5f"
           }
          },
          "ternary": {
           "aaxis": {
            "gridcolor": "white",
            "linecolor": "white",
            "ticks": ""
           },
           "baxis": {
            "gridcolor": "white",
            "linecolor": "white",
            "ticks": ""
           },
           "bgcolor": "#E5ECF6",
           "caxis": {
            "gridcolor": "white",
            "linecolor": "white",
            "ticks": ""
           }
          },
          "title": {
           "x": 0.05
          },
          "xaxis": {
           "automargin": true,
           "gridcolor": "white",
           "linecolor": "white",
           "ticks": "",
           "title": {
            "standoff": 15
           },
           "zerolinecolor": "white",
           "zerolinewidth": 2
          },
          "yaxis": {
           "automargin": true,
           "gridcolor": "white",
           "linecolor": "white",
           "ticks": "",
           "title": {
            "standoff": 15
           },
           "zerolinecolor": "white",
           "zerolinewidth": 2
          }
         }
        },
        "title": {
         "text": "Top 3 most popular professional certificate cources with rating above the average"
        },
        "xaxis": {
         "anchor": "y",
         "domain": [
          0,
          1
         ],
         "title": {
          "text": "Number of Enrollments"
         }
        },
        "yaxis": {
         "anchor": "x",
         "domain": [
          0,
          1
         ],
         "title": {
          "text": "Course Title"
         }
        }
       }
      }
     },
     "metadata": {},
     "output_type": "display_data"
    }
   ],
   "source": [
    "top_prof_courses = df[(df['course_rating'] > (avg_course_rating)) & (df['course_Certificate_type'] == 'PROFESSIONAL CERTIFICATE')]\n",
    "\n",
    "prof_course_popularity = top_prof_courses.groupby('course_title')['course_students_enrolled'].sum().reset_index()\n",
    "top_3_prof_courses = prof_course_popularity.sort_values('course_students_enrolled', ascending=False).head(10)\n",
    "\n",
    "filtered_top_prof_courses = top_prof_courses[top_prof_courses['course_title'].isin(top_3_prof_courses['course_title'])]\n",
    "\n",
    "\n",
    "fig = px.scatter(\n",
    "    filtered_top_prof_courses, \n",
    "    x='course_students_enrolled', \n",
    "    y='course_title', \n",
    "    color='course_organization',\n",
    "    color_continuous_scale='Viridis', \n",
    "    size='course_students_enrolled',\n",
    "    hover_name='course_title', \n",
    "    hover_data={'course_difficulty': True, 'course_rating': True, 'course_students_enrolled': True},\n",
    "    title=\"Top 3 most popular professional certificate cources with rating above the average\",\n",
    "    labels={\n",
    "        \"course_organization\": \"Course Organization\", \n",
    "        \"course_title\": \"Course Title\", \n",
    "        \"course_rating\": \"Course Rating\", \n",
    "        \"course_students_enrolled\": \"Number of Enrollments\", \n",
    "        \"course_difficulty\": \"Course Difficulty\"\n",
    "    },\n",
    "    size_max=20 \n",
    ")\n",
    "\n",
    "fig.show()"
   ]
  },
  {
   "cell_type": "markdown",
   "metadata": {},
   "source": [
    "**\"SAS Programmer\" by SAS** is the most popular professional certificate course. \n",
    "\n",
    "**\"Google IT Support\" by Google** is the second most popular professional certificate course.\n",
    "\n",
    "**\"Cloud Engineering with Google Cloud\" by Google**  is the third most rated and popular course.  "
   ]
  },
  {
   "cell_type": "markdown",
   "metadata": {},
   "source": [
    "#### **2.8 Top 10 most popular course certificate with higest ratings**\n",
    "\n",
    "Max and -0.1 rating of all courses was counted to represent the quality of the course higher than average and filtered by type as course.\n",
    "\n",
    "\n",
    "Plotly was used to visualize the course dificulty by their enrollments interactively. \n",
    "\n",
    "\n",
    "###### **Please know, that exact counts and zoom is only available in Jupiter notebook*"
   ]
  },
  {
   "cell_type": "code",
   "execution_count": 61,
   "metadata": {},
   "outputs": [
    {
     "data": {
      "application/vnd.plotly.v1+json": {
       "config": {
        "plotlyServerURL": "https://plot.ly"
       },
       "data": [
        {
         "customdata": [
          [
           "Mixed",
           4.9
          ]
         ],
         "hovertemplate": "<b>%{hovertext}</b><br><br>Course Organization=Google - Spectrum Sharing<br>Number of Enrollments=%{marker.size}<br>Course Title=%{y}<br>Course Difficulty=%{customdata[0]}<br>Course Rating=%{customdata[1]}<extra></extra>",
         "hovertext": [
          "Become a CBRS Certified Professional Installer by Google"
         ],
         "legendgroup": "Google - Spectrum Sharing",
         "marker": {
          "color": "#636efa",
          "size": {
           "bdata": "UDQDAA==",
           "dtype": "i4"
          },
          "sizemode": "area",
          "sizeref": 8000,
          "symbol": "circle"
         },
         "mode": "markers",
         "name": "Google - Spectrum Sharing",
         "orientation": "h",
         "showlegend": true,
         "type": "scatter",
         "x": {
          "bdata": "UDQDAA==",
          "dtype": "i4"
         },
         "xaxis": "x",
         "y": [
          "Become a CBRS Certified Professional Installer by Google"
         ],
         "yaxis": "y"
        },
        {
         "customdata": [
          [
           "Beginner",
           4.9
          ]
         ],
         "hovertemplate": "<b>%{hovertext}</b><br><br>Course Organization=Johns Hopkins University<br>Number of Enrollments=%{marker.size}<br>Course Title=%{y}<br>Course Difficulty=%{customdata[0]}<br>Course Rating=%{customdata[1]}<extra></extra>",
         "hovertext": [
          "COVID-19 Contact Tracing"
         ],
         "legendgroup": "Johns Hopkins University",
         "marker": {
          "color": "#EF553B",
          "size": {
           "bdata": "YFsDAA==",
           "dtype": "i4"
          },
          "sizemode": "area",
          "sizeref": 8000,
          "symbol": "circle"
         },
         "mode": "markers",
         "name": "Johns Hopkins University",
         "orientation": "h",
         "showlegend": true,
         "type": "scatter",
         "x": {
          "bdata": "YFsDAA==",
          "dtype": "i4"
         },
         "xaxis": "x",
         "y": [
          "COVID-19 Contact Tracing"
         ],
         "yaxis": "y"
        },
        {
         "customdata": [
          [
           "Intermediate",
           4.9
          ],
          [
           "Beginner",
           4.9
          ],
          [
           "Intermediate",
           4.9
          ]
         ],
         "hovertemplate": "<b>%{hovertext}</b><br><br>Course Organization=deeplearning.ai<br>Number of Enrollments=%{marker.size}<br>Course Title=%{y}<br>Course Difficulty=%{customdata[0]}<br>Course Rating=%{customdata[1]}<extra></extra>",
         "hovertext": [
          "Convolutional Neural Networks",
          "Improving Deep Neural Networks: Hyperparameter tuning, Regularization and Optimization",
          "Neural Networks and Deep Learning"
         ],
         "legendgroup": "deeplearning.ai",
         "marker": {
          "color": "#00cc96",
          "size": {
           "bdata": "gKkDALAeBADwnAkA",
           "dtype": "i4"
          },
          "sizemode": "area",
          "sizeref": 8000,
          "symbol": "circle"
         },
         "mode": "markers",
         "name": "deeplearning.ai",
         "orientation": "h",
         "showlegend": true,
         "type": "scatter",
         "x": {
          "bdata": "gKkDALAeBADwnAkA",
          "dtype": "i4"
         },
         "xaxis": "x",
         "y": [
          "Convolutional Neural Networks",
          "Improving Deep Neural Networks: Hyperparameter tuning, Regularization and Optimization",
          "Neural Networks and Deep Learning"
         ],
         "yaxis": "y"
        },
        {
         "customdata": [
          [
           "Beginner",
           4.9
          ]
         ],
         "hovertemplate": "<b>%{hovertext}</b><br><br>Course Organization=Yonsei University<br>Number of Enrollments=%{marker.size}<br>Course Title=%{y}<br>Course Difficulty=%{customdata[0]}<br>Course Rating=%{customdata[1]}<extra></extra>",
         "hovertext": [
          "First Step Korean"
         ],
         "legendgroup": "Yonsei University",
         "marker": {
          "color": "#ab63fa",
          "size": {
           "bdata": "gBoGAA==",
           "dtype": "i4"
          },
          "sizemode": "area",
          "sizeref": 8000,
          "symbol": "circle"
         },
         "mode": "markers",
         "name": "Yonsei University",
         "orientation": "h",
         "showlegend": true,
         "type": "scatter",
         "x": {
          "bdata": "gBoGAA==",
          "dtype": "i4"
         },
         "xaxis": "x",
         "y": [
          "First Step Korean"
         ],
         "yaxis": "y"
        },
        {
         "customdata": [
          [
           "Beginner",
           4.9
          ],
          [
           "Mixed",
           4.9
          ]
         ],
         "hovertemplate": "<b>%{hovertext}</b><br><br>Course Organization=Yale University<br>Number of Enrollments=%{marker.size}<br>Course Title=%{y}<br>Course Difficulty=%{customdata[0]}<br>Course Rating=%{customdata[1]}<extra></extra>",
         "hovertext": [
          "Introduction to Psychology",
          "The Science of Well-Being"
         ],
         "legendgroup": "Yale University",
         "marker": {
          "color": "#FFA15A",
          "size": {
           "bdata": "sB4EAKAlJgA=",
           "dtype": "i4"
          },
          "sizemode": "area",
          "sizeref": 8000,
          "symbol": "circle"
         },
         "mode": "markers",
         "name": "Yale University",
         "orientation": "h",
         "showlegend": true,
         "type": "scatter",
         "x": {
          "bdata": "sB4EAKAlJgA=",
          "dtype": "i4"
         },
         "xaxis": "x",
         "y": [
          "Introduction to Psychology",
          "The Science of Well-Being"
         ],
         "yaxis": "y"
        },
        {
         "customdata": [
          [
           "Mixed",
           4.9
          ]
         ],
         "hovertemplate": "<b>%{hovertext}</b><br><br>Course Organization=Stanford University<br>Number of Enrollments=%{marker.size}<br>Course Title=%{y}<br>Course Difficulty=%{customdata[0]}<br>Course Rating=%{customdata[1]}<extra></extra>",
         "hovertext": [
          "Machine Learning"
         ],
         "legendgroup": "Stanford University",
         "marker": {
          "color": "#19d3f3",
          "size": {
           "bdata": "ANQwAA==",
           "dtype": "i4"
          },
          "sizemode": "area",
          "sizeref": 8000,
          "symbol": "circle"
         },
         "mode": "markers",
         "name": "Stanford University",
         "orientation": "h",
         "showlegend": true,
         "type": "scatter",
         "x": {
          "bdata": "ANQwAA==",
          "dtype": "i4"
         },
         "xaxis": "x",
         "y": [
          "Machine Learning"
         ],
         "yaxis": "y"
        },
        {
         "customdata": [
          [
           "Mixed",
           4.9
          ]
         ],
         "hovertemplate": "<b>%{hovertext}</b><br><br>Course Organization=University of Michigan<br>Number of Enrollments=%{marker.size}<br>Course Title=%{y}<br>Course Difficulty=%{customdata[0]}<br>Course Rating=%{customdata[1]}<extra></extra>",
         "hovertext": [
          "Python Data Structures"
         ],
         "legendgroup": "University of Michigan",
         "marker": {
          "color": "#FF6692",
          "size": {
           "bdata": "oGgGAA==",
           "dtype": "i4"
          },
          "sizemode": "area",
          "sizeref": 8000,
          "symbol": "circle"
         },
         "mode": "markers",
         "name": "University of Michigan",
         "orientation": "h",
         "showlegend": true,
         "type": "scatter",
         "x": {
          "bdata": "oGgGAA==",
          "dtype": "i4"
         },
         "xaxis": "x",
         "y": [
          "Python Data Structures"
         ],
         "yaxis": "y"
        }
       ],
       "layout": {
        "legend": {
         "itemsizing": "constant",
         "title": {
          "text": "Course Organization"
         },
         "tracegroupgap": 0
        },
        "template": {
         "data": {
          "bar": [
           {
            "error_x": {
             "color": "#2a3f5f"
            },
            "error_y": {
             "color": "#2a3f5f"
            },
            "marker": {
             "line": {
              "color": "#E5ECF6",
              "width": 0.5
             },
             "pattern": {
              "fillmode": "overlay",
              "size": 10,
              "solidity": 0.2
             }
            },
            "type": "bar"
           }
          ],
          "barpolar": [
           {
            "marker": {
             "line": {
              "color": "#E5ECF6",
              "width": 0.5
             },
             "pattern": {
              "fillmode": "overlay",
              "size": 10,
              "solidity": 0.2
             }
            },
            "type": "barpolar"
           }
          ],
          "carpet": [
           {
            "aaxis": {
             "endlinecolor": "#2a3f5f",
             "gridcolor": "white",
             "linecolor": "white",
             "minorgridcolor": "white",
             "startlinecolor": "#2a3f5f"
            },
            "baxis": {
             "endlinecolor": "#2a3f5f",
             "gridcolor": "white",
             "linecolor": "white",
             "minorgridcolor": "white",
             "startlinecolor": "#2a3f5f"
            },
            "type": "carpet"
           }
          ],
          "choropleth": [
           {
            "colorbar": {
             "outlinewidth": 0,
             "ticks": ""
            },
            "type": "choropleth"
           }
          ],
          "contour": [
           {
            "colorbar": {
             "outlinewidth": 0,
             "ticks": ""
            },
            "colorscale": [
             [
              0,
              "#0d0887"
             ],
             [
              0.1111111111111111,
              "#46039f"
             ],
             [
              0.2222222222222222,
              "#7201a8"
             ],
             [
              0.3333333333333333,
              "#9c179e"
             ],
             [
              0.4444444444444444,
              "#bd3786"
             ],
             [
              0.5555555555555556,
              "#d8576b"
             ],
             [
              0.6666666666666666,
              "#ed7953"
             ],
             [
              0.7777777777777778,
              "#fb9f3a"
             ],
             [
              0.8888888888888888,
              "#fdca26"
             ],
             [
              1,
              "#f0f921"
             ]
            ],
            "type": "contour"
           }
          ],
          "contourcarpet": [
           {
            "colorbar": {
             "outlinewidth": 0,
             "ticks": ""
            },
            "type": "contourcarpet"
           }
          ],
          "heatmap": [
           {
            "colorbar": {
             "outlinewidth": 0,
             "ticks": ""
            },
            "colorscale": [
             [
              0,
              "#0d0887"
             ],
             [
              0.1111111111111111,
              "#46039f"
             ],
             [
              0.2222222222222222,
              "#7201a8"
             ],
             [
              0.3333333333333333,
              "#9c179e"
             ],
             [
              0.4444444444444444,
              "#bd3786"
             ],
             [
              0.5555555555555556,
              "#d8576b"
             ],
             [
              0.6666666666666666,
              "#ed7953"
             ],
             [
              0.7777777777777778,
              "#fb9f3a"
             ],
             [
              0.8888888888888888,
              "#fdca26"
             ],
             [
              1,
              "#f0f921"
             ]
            ],
            "type": "heatmap"
           }
          ],
          "histogram": [
           {
            "marker": {
             "pattern": {
              "fillmode": "overlay",
              "size": 10,
              "solidity": 0.2
             }
            },
            "type": "histogram"
           }
          ],
          "histogram2d": [
           {
            "colorbar": {
             "outlinewidth": 0,
             "ticks": ""
            },
            "colorscale": [
             [
              0,
              "#0d0887"
             ],
             [
              0.1111111111111111,
              "#46039f"
             ],
             [
              0.2222222222222222,
              "#7201a8"
             ],
             [
              0.3333333333333333,
              "#9c179e"
             ],
             [
              0.4444444444444444,
              "#bd3786"
             ],
             [
              0.5555555555555556,
              "#d8576b"
             ],
             [
              0.6666666666666666,
              "#ed7953"
             ],
             [
              0.7777777777777778,
              "#fb9f3a"
             ],
             [
              0.8888888888888888,
              "#fdca26"
             ],
             [
              1,
              "#f0f921"
             ]
            ],
            "type": "histogram2d"
           }
          ],
          "histogram2dcontour": [
           {
            "colorbar": {
             "outlinewidth": 0,
             "ticks": ""
            },
            "colorscale": [
             [
              0,
              "#0d0887"
             ],
             [
              0.1111111111111111,
              "#46039f"
             ],
             [
              0.2222222222222222,
              "#7201a8"
             ],
             [
              0.3333333333333333,
              "#9c179e"
             ],
             [
              0.4444444444444444,
              "#bd3786"
             ],
             [
              0.5555555555555556,
              "#d8576b"
             ],
             [
              0.6666666666666666,
              "#ed7953"
             ],
             [
              0.7777777777777778,
              "#fb9f3a"
             ],
             [
              0.8888888888888888,
              "#fdca26"
             ],
             [
              1,
              "#f0f921"
             ]
            ],
            "type": "histogram2dcontour"
           }
          ],
          "mesh3d": [
           {
            "colorbar": {
             "outlinewidth": 0,
             "ticks": ""
            },
            "type": "mesh3d"
           }
          ],
          "parcoords": [
           {
            "line": {
             "colorbar": {
              "outlinewidth": 0,
              "ticks": ""
             }
            },
            "type": "parcoords"
           }
          ],
          "pie": [
           {
            "automargin": true,
            "type": "pie"
           }
          ],
          "scatter": [
           {
            "fillpattern": {
             "fillmode": "overlay",
             "size": 10,
             "solidity": 0.2
            },
            "type": "scatter"
           }
          ],
          "scatter3d": [
           {
            "line": {
             "colorbar": {
              "outlinewidth": 0,
              "ticks": ""
             }
            },
            "marker": {
             "colorbar": {
              "outlinewidth": 0,
              "ticks": ""
             }
            },
            "type": "scatter3d"
           }
          ],
          "scattercarpet": [
           {
            "marker": {
             "colorbar": {
              "outlinewidth": 0,
              "ticks": ""
             }
            },
            "type": "scattercarpet"
           }
          ],
          "scattergeo": [
           {
            "marker": {
             "colorbar": {
              "outlinewidth": 0,
              "ticks": ""
             }
            },
            "type": "scattergeo"
           }
          ],
          "scattergl": [
           {
            "marker": {
             "colorbar": {
              "outlinewidth": 0,
              "ticks": ""
             }
            },
            "type": "scattergl"
           }
          ],
          "scattermap": [
           {
            "marker": {
             "colorbar": {
              "outlinewidth": 0,
              "ticks": ""
             }
            },
            "type": "scattermap"
           }
          ],
          "scattermapbox": [
           {
            "marker": {
             "colorbar": {
              "outlinewidth": 0,
              "ticks": ""
             }
            },
            "type": "scattermapbox"
           }
          ],
          "scatterpolar": [
           {
            "marker": {
             "colorbar": {
              "outlinewidth": 0,
              "ticks": ""
             }
            },
            "type": "scatterpolar"
           }
          ],
          "scatterpolargl": [
           {
            "marker": {
             "colorbar": {
              "outlinewidth": 0,
              "ticks": ""
             }
            },
            "type": "scatterpolargl"
           }
          ],
          "scatterternary": [
           {
            "marker": {
             "colorbar": {
              "outlinewidth": 0,
              "ticks": ""
             }
            },
            "type": "scatterternary"
           }
          ],
          "surface": [
           {
            "colorbar": {
             "outlinewidth": 0,
             "ticks": ""
            },
            "colorscale": [
             [
              0,
              "#0d0887"
             ],
             [
              0.1111111111111111,
              "#46039f"
             ],
             [
              0.2222222222222222,
              "#7201a8"
             ],
             [
              0.3333333333333333,
              "#9c179e"
             ],
             [
              0.4444444444444444,
              "#bd3786"
             ],
             [
              0.5555555555555556,
              "#d8576b"
             ],
             [
              0.6666666666666666,
              "#ed7953"
             ],
             [
              0.7777777777777778,
              "#fb9f3a"
             ],
             [
              0.8888888888888888,
              "#fdca26"
             ],
             [
              1,
              "#f0f921"
             ]
            ],
            "type": "surface"
           }
          ],
          "table": [
           {
            "cells": {
             "fill": {
              "color": "#EBF0F8"
             },
             "line": {
              "color": "white"
             }
            },
            "header": {
             "fill": {
              "color": "#C8D4E3"
             },
             "line": {
              "color": "white"
             }
            },
            "type": "table"
           }
          ]
         },
         "layout": {
          "annotationdefaults": {
           "arrowcolor": "#2a3f5f",
           "arrowhead": 0,
           "arrowwidth": 1
          },
          "autotypenumbers": "strict",
          "coloraxis": {
           "colorbar": {
            "outlinewidth": 0,
            "ticks": ""
           }
          },
          "colorscale": {
           "diverging": [
            [
             0,
             "#8e0152"
            ],
            [
             0.1,
             "#c51b7d"
            ],
            [
             0.2,
             "#de77ae"
            ],
            [
             0.3,
             "#f1b6da"
            ],
            [
             0.4,
             "#fde0ef"
            ],
            [
             0.5,
             "#f7f7f7"
            ],
            [
             0.6,
             "#e6f5d0"
            ],
            [
             0.7,
             "#b8e186"
            ],
            [
             0.8,
             "#7fbc41"
            ],
            [
             0.9,
             "#4d9221"
            ],
            [
             1,
             "#276419"
            ]
           ],
           "sequential": [
            [
             0,
             "#0d0887"
            ],
            [
             0.1111111111111111,
             "#46039f"
            ],
            [
             0.2222222222222222,
             "#7201a8"
            ],
            [
             0.3333333333333333,
             "#9c179e"
            ],
            [
             0.4444444444444444,
             "#bd3786"
            ],
            [
             0.5555555555555556,
             "#d8576b"
            ],
            [
             0.6666666666666666,
             "#ed7953"
            ],
            [
             0.7777777777777778,
             "#fb9f3a"
            ],
            [
             0.8888888888888888,
             "#fdca26"
            ],
            [
             1,
             "#f0f921"
            ]
           ],
           "sequentialminus": [
            [
             0,
             "#0d0887"
            ],
            [
             0.1111111111111111,
             "#46039f"
            ],
            [
             0.2222222222222222,
             "#7201a8"
            ],
            [
             0.3333333333333333,
             "#9c179e"
            ],
            [
             0.4444444444444444,
             "#bd3786"
            ],
            [
             0.5555555555555556,
             "#d8576b"
            ],
            [
             0.6666666666666666,
             "#ed7953"
            ],
            [
             0.7777777777777778,
             "#fb9f3a"
            ],
            [
             0.8888888888888888,
             "#fdca26"
            ],
            [
             1,
             "#f0f921"
            ]
           ]
          },
          "colorway": [
           "#636efa",
           "#EF553B",
           "#00cc96",
           "#ab63fa",
           "#FFA15A",
           "#19d3f3",
           "#FF6692",
           "#B6E880",
           "#FF97FF",
           "#FECB52"
          ],
          "font": {
           "color": "#2a3f5f"
          },
          "geo": {
           "bgcolor": "white",
           "lakecolor": "white",
           "landcolor": "#E5ECF6",
           "showlakes": true,
           "showland": true,
           "subunitcolor": "white"
          },
          "hoverlabel": {
           "align": "left"
          },
          "hovermode": "closest",
          "mapbox": {
           "style": "light"
          },
          "paper_bgcolor": "white",
          "plot_bgcolor": "#E5ECF6",
          "polar": {
           "angularaxis": {
            "gridcolor": "white",
            "linecolor": "white",
            "ticks": ""
           },
           "bgcolor": "#E5ECF6",
           "radialaxis": {
            "gridcolor": "white",
            "linecolor": "white",
            "ticks": ""
           }
          },
          "scene": {
           "xaxis": {
            "backgroundcolor": "#E5ECF6",
            "gridcolor": "white",
            "gridwidth": 2,
            "linecolor": "white",
            "showbackground": true,
            "ticks": "",
            "zerolinecolor": "white"
           },
           "yaxis": {
            "backgroundcolor": "#E5ECF6",
            "gridcolor": "white",
            "gridwidth": 2,
            "linecolor": "white",
            "showbackground": true,
            "ticks": "",
            "zerolinecolor": "white"
           },
           "zaxis": {
            "backgroundcolor": "#E5ECF6",
            "gridcolor": "white",
            "gridwidth": 2,
            "linecolor": "white",
            "showbackground": true,
            "ticks": "",
            "zerolinecolor": "white"
           }
          },
          "shapedefaults": {
           "line": {
            "color": "#2a3f5f"
           }
          },
          "ternary": {
           "aaxis": {
            "gridcolor": "white",
            "linecolor": "white",
            "ticks": ""
           },
           "baxis": {
            "gridcolor": "white",
            "linecolor": "white",
            "ticks": ""
           },
           "bgcolor": "#E5ECF6",
           "caxis": {
            "gridcolor": "white",
            "linecolor": "white",
            "ticks": ""
           }
          },
          "title": {
           "x": 0.05
          },
          "xaxis": {
           "automargin": true,
           "gridcolor": "white",
           "linecolor": "white",
           "ticks": "",
           "title": {
            "standoff": 15
           },
           "zerolinecolor": "white",
           "zerolinewidth": 2
          },
          "yaxis": {
           "automargin": true,
           "gridcolor": "white",
           "linecolor": "white",
           "ticks": "",
           "title": {
            "standoff": 15
           },
           "zerolinecolor": "white",
           "zerolinewidth": 2
          }
         }
        },
        "title": {
         "text": "Top 10 most popular professional certificate cources with rating above the average"
        },
        "xaxis": {
         "anchor": "y",
         "domain": [
          0,
          1
         ],
         "title": {
          "text": "Number of Enrollments"
         }
        },
        "yaxis": {
         "anchor": "x",
         "domain": [
          0,
          1
         ],
         "title": {
          "text": "Course Title"
         }
        }
       }
      }
     },
     "metadata": {},
     "output_type": "display_data"
    }
   ],
   "source": [
    "max_course_rating = df['course_rating'].max()\n",
    "\n",
    "top_courses = df[(df['course_rating'] == (max_course_rating-0.1)) & (df['course_Certificate_type'] == 'COURSE')]\n",
    "\n",
    "course_popularity = top_courses.groupby('course_title')['course_students_enrolled'].sum().reset_index()\n",
    "top_10_courses = course_popularity.sort_values('course_students_enrolled', ascending=False).head(10)\n",
    "\n",
    "filtered_top_courses = top_courses[top_courses['course_title'].isin(top_10_courses['course_title'])]\n",
    "\n",
    "\n",
    "fig = px.scatter(\n",
    "    filtered_top_courses, \n",
    "    x='course_students_enrolled', \n",
    "    y='course_title', \n",
    "    color='course_organization',\n",
    "    color_continuous_scale='Viridis', \n",
    "    size='course_students_enrolled',\n",
    "    hover_name='course_title', \n",
    "    hover_data={'course_difficulty': True, 'course_rating': True, 'course_students_enrolled': True},\n",
    "    title=\"Top 10 most popular professional certificate cources with rating above the average\",\n",
    "    labels={\n",
    "        \"course_organization\": \"Course Organization\", \n",
    "        \"course_title\": \"Course Title\", \n",
    "        \"course_rating\": \"Course Rating\", \n",
    "        \"course_students_enrolled\": \"Number of Enrollments\", \n",
    "        \"course_difficulty\": \"Course Difficulty\"\n",
    "    },\n",
    "    size_max=20 \n",
    ")\n",
    "\n",
    "fig.show()"
   ]
  },
  {
   "cell_type": "markdown",
   "metadata": {},
   "source": [
    "Most popular course is **\"Machine Learning\" by Stanford University**. \n",
    "\n",
    "Second most popular course is **\"The Science of Well-Being\"\" by\tYale University**. \n",
    "\n",
    "Third most popular course is **\"Neural Networks and Deep Learning\" by deeplearning.ai**."
   ]
  },
  {
   "cell_type": "markdown",
   "metadata": {},
   "source": [
    "## **3. Conclusion**\n",
    "\n",
    "The analysis of Coursera course data provides valuable insights for both learners seeking the right educational opportunities and course creators aiming to optimize their offerings.\n",
    "\n",
    "Key findings from our analysis include:\n",
    "\n",
    "1. **Rating Distribution**: The majority of courses on the platform are highly rated, with most courses falling in the 4.6-4.7 range (419 courses). This suggests overall high quality of content across the platform.\n",
    "\n",
    "2. **Difficulty Level Insights**:\n",
    "   - Beginner courses dominate the platform with 487 different offerings and attract the most students with nearly 40 million enrollments.\n",
    "   - Advanced courses are significantly underrepresented with only 19 courses and 1.26 million enrollments.\n",
    "   - This suggests a clear market preference for entry-level content and potentially an opportunity gap for high-quality advanced courses.\n",
    "\n",
    "3. **Institutional Excellence**:\n",
    "   - For beginners, The University of Chicago stands out with the highest-rated courses and substantial enrollment numbers.\n",
    "   - Stanford University excels in mixed-difficulty courses, attracting the largest number of students among top-rated providers.\n",
    "   - Duke University uniquely dominates the advanced course category with the highest ratings.\n",
    "\n",
    "4. **Popular Specializations**:\n",
    "   - \"Python for Everybody\" by University of Michigan leads as the most popular specialization with a 4.8 rating.\n",
    "   - \"Deep Learning\" by deeplearning.ai follows closely as the second most popular specialization, also with a 4.8 rating.\n",
    "   - \"Improve Your English Communication Skills\" by Georgia Institute of Technology rounds out the top three with a 4.7 rating.\n",
    "\n",
    "5. **Professional Certificates**:\n",
    "   - \"SAS Programmer\" by SAS emerged as the most popular professional certificate.\n",
    "   - \"Google IT Support\" by Google follows as the second most popular professional certificate.\n",
    "   - \"Cloud Engineering with Google Cloud\" by Google ranks third in popularity among professional certificates.\n",
    "\n",
    "6. **Top Courses**:\n",
    "   - \"Machine Learning\" by Stanford University leads in popularity among top-rated individual courses.\n",
    "   - \"The Science of Well-Being\" by Yale University follows as the second most popular high-rated course.\n",
    "   - \"Neural Networks and Deep Learning\" by deeplearning.ai ranks third in popularity among top-rated courses.\n",
    "\n",
    "These findings suggest that while beginners are well-served by the current course offerings, there is significant room for growth in intermediate and advanced content. Educational institutions looking to expand their online presence might consider focusing on these underserved difficulty levels. For learners, the analysis provides clear direction on which courses and institutions consistently deliver high-quality content across different domains and difficulty levels."
   ]
  },
  {
   "cell_type": "markdown",
   "metadata": {},
   "source": [
    "## **4. Suggestions for Improvement**\n",
    "\n",
    "The current analysis provides valuable insights, but several improvements could enhance its depth and utility:\n",
    "\n",
    "1. **Time-Based Analysis**:\n",
    "   - Data by year could show the track of enrollment trends over time\n",
    "   - Would enable analysis of how course ratings evolve after launch\n",
    "   - Possible identification of seasonal patterns in enrollment that could guide course release timing\n",
    "\n",
    "2. **Completion rate**:\n",
    "   - The course completetion rate would show the cource dificulty level and overall its quality \n",
    "   - Course duration data would show the relationship between length and popularity\n",
    "   - Would show how the rate of the course changes based on its length\n",
    "   \n",
    "3. **Pricing and financial**: \n",
    "   - Would show how the price impacts popularity\n",
    "   - Additional information would allow to see relations between price and rating \n",
    "   - Would allow better understanding of investments in studies \n",
    "\n",
    "4. **Visualization Enhancements**:\n",
    "   - Creation of interactive dashboards would allow users to filter and explore data based on their interests\n",
    "   - Course recommendation tool based on user needs and interest fields\n",
    "   \n",
    "Implementing these suggestions would transform the current descriptive analysis into a more comprehensive, actionable resource that could benefit both learners choosing their educational path and course creators designing new offerings."
   ]
  }
 ],
 "metadata": {
  "kernelspec": {
   "display_name": "turing",
   "language": "python",
   "name": "python3"
  },
  "language_info": {
   "codemirror_mode": {
    "name": "ipython",
    "version": 3
   },
   "file_extension": ".py",
   "mimetype": "text/x-python",
   "name": "python",
   "nbconvert_exporter": "python",
   "pygments_lexer": "ipython3",
   "version": "3.8.20"
  }
 },
 "nbformat": 4,
 "nbformat_minor": 2
}
